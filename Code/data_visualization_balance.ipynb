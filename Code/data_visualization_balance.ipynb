{
 "cells": [
  {
   "cell_type": "code",
   "execution_count": 5,
   "id": "6b1fbe20-743d-419d-9456-4553d7d98ffa",
   "metadata": {},
   "outputs": [],
   "source": [
    "import csv\n",
    "import pandas as pd\n",
    "import matplotlib.pyplot as plt\n",
    "import altair as alt"
   ]
  },
  {
   "cell_type": "code",
   "execution_count": 13,
   "id": "c06f79c1-f4f5-40ce-ba8e-6e16fcd92bc6",
   "metadata": {},
   "outputs": [],
   "source": [
    "csv_file_path = r'data/daily_balance_sheet.csv'\n",
    "df = pd.read_csv(csv_file_path)\n",
    "col_drop = ['repayUSD','bufferUSD', 'haircutUSD', 'seizeUSD']\n",
    "df.drop(col_drop, axis = 1)\n",
    "df['date'] = pd.to_datetime(df['date'])\n",
    "df['Days_Since_Start'] = (df['date'] - start).dt.days + 1\n",
    "start = min(df_eth['date']) \n",
    "df_eth = df[df['symbol'] == 'cETH']\n",
    "\n"
   ]
  },
  {
   "cell_type": "code",
   "execution_count": 11,
   "id": "8bbed952-6e93-4b9f-b602-163262a50131",
   "metadata": {},
   "outputs": [],
   "source": [
    "chart = alt.Chart(df_eth).mark_line().encode(\n",
    "    x='Days_Since_Start:Q',\n",
    "    y='totalBorrowUSD:Q',\n",
    "    color=alt.value('red'),\n",
    "    tooltip=['Days_Since_Start', 'totalBorrowUSD']\n",
    ").properties(\n",
    "    title='Total Borrow USD Over Time for ETH',\n",
    "    width=600,\n",
    "    height=300\n",
    ")\n",
    "chart.save('chart1.html')"
   ]
  },
  {
   "cell_type": "code",
   "execution_count": 10,
   "id": "75180422-6e64-4175-92a2-8b354041eb28",
   "metadata": {},
   "outputs": [],
   "source": [
    "\n",
    "\n",
    "chart = alt.Chart(df_eth).mark_line().encode(\n",
    "    x='date:T',\n",
    "    y='totalBorrowUSD:Q',\n",
    "    color=alt.value('blue'),\n",
    "    tooltip=['date', 'totalBorrowUSD']\n",
    ").properties(\n",
    "    title='Total Borrow USD Over Time for ETH',\n",
    "    width=600,\n",
    "    height=300\n",
    ")\n",
    "chart.save('chart2.html')"
   ]
  },
  {
   "cell_type": "code",
   "execution_count": 12,
   "id": "ddfbbf1b-af84-44d3-9373-363532b0ac74",
   "metadata": {},
   "outputs": [],
   "source": [
    "\n",
    "df_melted = pd.melt(df_eth, id_vars=['date'], value_vars=['totalBorrowUSD', 'totalLiabilitiesUSD', 'totalCollateralUSD'],\n",
    "                    var_name='Metric', value_name='Value')\n",
    "\n",
    "chart = alt.Chart(df_melted).mark_line().encode(\n",
    "    x='date:T',\n",
    "    y='Value:Q',\n",
    "    color='Metric:N',\n",
    "    tooltip=['date:T', 'Value:Q', 'Metric:N']\n",
    ").properties(\n",
    "    title='total Borrow, liability, collateral over time',\n",
    "    width=600,\n",
    "    height=300\n",
    ")\n",
    "\n",
    "#Here totalLiabilities refers to the total amount borrowed, see it is a little bit below 'totalCollateral', compound Defi protocol is overcollateralized\n",
    "chart.save('chart3.html')"
   ]
  },
  {
   "cell_type": "code",
   "execution_count": 20,
   "id": "fe2379e2-5c7e-4d0e-a0e1-732292f2a90d",
   "metadata": {},
   "outputs": [],
   "source": [
    "#see https://messari.io/report/state-of-compound-q4-2021 for most used coin\n",
    "most_used_coins = ['cETH', 'cUSDC', 'cBTC', 'cDAI', 'cUSDT']\n",
    "\n",
    "df_copy = df\n",
    "df_copy['symbol'] = df_copy['symbol'].apply(lambda x: x if x in most_used_coins else 'Other')\n",
    "\n",
    "chart = alt.Chart(df_copy).mark_area(\n",
    "    interpolate='linear',\n",
    "    line=True\n",
    ").encode(\n",
    "    x='date:T',\n",
    "    y=alt.Y('totalAssetsUSD:Q', stack=None, title='Total Assets USD'),\n",
    "    color='symbol:N',\n",
    "    tooltip=['date:T', 'totalAssetsUSD:Q', 'Symbol:N']\n",
    ").properties(\n",
    "    title='Total Assets USD Over Time',\n",
    "    width=600,\n",
    "    height=300\n",
    ")\n",
    "\n",
    "\n",
    "chart.save('chart4.html')\n"
   ]
  },
  {
   "cell_type": "code",
   "execution_count": null,
   "id": "e0c7406f-2f87-4321-bfc4-eb497dde3e12",
   "metadata": {},
   "outputs": [],
   "source": []
  }
 ],
 "metadata": {
  "kernelspec": {
   "display_name": "Python 3 (ipykernel)",
   "language": "python",
   "name": "python3"
  },
  "language_info": {
   "codemirror_mode": {
    "name": "ipython",
    "version": 3
   },
   "file_extension": ".py",
   "mimetype": "text/x-python",
   "name": "python",
   "nbconvert_exporter": "python",
   "pygments_lexer": "ipython3",
   "version": "3.10.13"
  }
 },
 "nbformat": 4,
 "nbformat_minor": 5
}
