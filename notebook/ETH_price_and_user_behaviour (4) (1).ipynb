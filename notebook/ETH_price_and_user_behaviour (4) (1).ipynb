{
 "cells": [
  {
   "cell_type": "markdown",
   "id": "1563fceb-900c-47eb-a654-0c1f619b25c1",
   "metadata": {},
   "source": [
    "# **ETH Price and Users Behavior on Compound**\n",
    "\n",
    "- The main purpose of this notebok is to first present a summary of statistics on and see if there are sEit correlations between e-market price of ETH and borrowers behaviours\n",
    "- **Another idea to pursue is the assumption that people may take short and long positions depending on the ETH price trend (increase-bullish or decease-bearish)**  \n",
    "- consider the amount of cETH-cUSDC and cUSDC-cETH pairs.\n",
    "- Plot whether the Ethereum price trend (up or down) may influence people to take more long or short strategies"
   ]
  },
  {
   "cell_type": "markdown",
   "id": "dca3adf8-6ae7-4277-b9fd-3647042897c7",
   "metadata": {},
   "source": [
    "Importing the necessary modules"
   ]
  },
  {
   "cell_type": "code",
   "execution_count": 1,
   "id": "1e1f90c6-0b0f-4cc7-8a78-83344700a54b",
   "metadata": {},
   "outputs": [
    {
     "data": {
      "text/plain": [
       "DataTransformerRegistry.enable('default')"
      ]
     },
     "execution_count": 1,
     "metadata": {},
     "output_type": "execute_result"
    }
   ],
   "source": [
    "import csv\n",
    "import pandas as pd\n",
    "import numpy as np\n",
    "import matplotlib.pyplot as plt\n",
    "import altair as alt\n",
    "from datetime import datetime\n",
    "import statsmodels.api as sm\n",
    "from statsmodels.tsa.stattools import grangercausalitytests\n",
    "from sklearn.preprocessing import StandardScaler\n",
    "import seaborn as sns\n",
    "alt.data_transformers.disable_max_rows()"
   ]
  },
  {
   "cell_type": "markdown",
   "id": "02ca67e5-2d9a-4b42-81f2-8d52dcb1ca0e",
   "metadata": {},
   "source": [
    "Preparing the data & creating a df for ETH"
   ]
  },
  {
   "cell_type": "code",
   "execution_count": 12,
   "id": "4bfe8f88-2c7e-4d45-a83e-4b993bae4833",
   "metadata": {},
   "outputs": [],
   "source": [
    "csv_file_path = r'../data/daily_balance_sheet.csv'\n",
    "df = pd.read_csv(csv_file_path)\n",
    "liability = pd.read_csv(r'../data/daily_liability_matrix.csv')\n",
    "\n",
    "col_drop = ['repayUSD','bufferUSD', 'haircutUSD', 'seizeUSD']\n",
    "df.drop(col_drop, axis = 1)\n",
    "\n",
    "csv_file_path2 = r'../data/daily_markets.csv'\n",
    "markets = pd.read_csv(csv_file_path2)\n",
    "markets['date'] = pd.to_datetime(markets['date'])\n",
    "markets['utilization_ratio'] = markets['totalBorrows'] / ( markets['totalBorrows'] + markets['cash'] - markets['reserves'] )\n",
    "blocks_data = pd.read_csv(r'../data/blocks_daily.csv')\n",
    "liability['gas_fee_usd'] = blocks_data['gas_fee_usd'].pct_change() \n",
    "df['date'] = pd.to_datetime(df['date'])\n",
    "df_eth = df[df['symbol'] == 'cETH']\n"
   ]
  },
  {
   "cell_type": "markdown",
   "id": "e721c8b4-f525-4f69-8980-55ef4c676ade",
   "metadata": {},
   "source": [
    "Plotting total borrow, total collateral and total assets"
   ]
  },
  {
   "cell_type": "code",
   "execution_count": null,
   "id": "fe57c2e9-86cf-4b3c-bde7-86454c0b0f82",
   "metadata": {},
   "outputs": [],
   "source": [
    "chart1 = alt.Chart(df[df['symbol'] == 'cUSDC']).mark_line().encode(\n",
    "    x='date:T',\n",
    "    y='totalBorrowUSD:Q',\n",
    "    color=alt.value('blue'),\n",
    "    tooltip=['date', 'totalBorrowUSD']\n",
    ").properties(\n",
    "    width=600,\n",
    "    height=300\n",
    ")\n",
    "chart2 = alt.Chart(df[df['symbol'] == 'cUSDC']).mark_line().encode(\n",
    "    x='date:T',\n",
    "    y = 'totalCollateralUSD:Q',\n",
    "    tooltip=['date:T', 'totalCollateralUSD:Q'],\n",
    "    color=alt.value('orange')\n",
    ").properties(\n",
    "    width=600,\n",
    "    height=300\n",
    ")\n",
    "chart3 = alt.Chart(df[df['symbol'] == 'cUSDC']).mark_line().encode(\n",
    "    x='date:T',\n",
    "    y = 'totalAssetsUSD:Q',\n",
    "    tooltip=['date:T', 'totalAssetsUSD:Q'],\n",
    "    color=alt.value('red')\n",
    ").properties(\n",
    "    width=600,\n",
    "    height=300\n",
    ")\n",
    "\n",
    "(chart1 +chart2+chart3)#.resolve_scale(y='independent')\n",
    "\n"
   ]
  },
  {
   "cell_type": "markdown",
   "id": "4caf75da-65e7-4fd1-9498-81075e964173",
   "metadata": {},
   "source": [
    "Plotting total assets for most used coins "
   ]
  },
  {
   "cell_type": "code",
   "execution_count": null,
   "id": "29ca9685-b5b4-46b8-8b63-533c9ae25809",
   "metadata": {},
   "outputs": [],
   "source": [
    "#see https://messari.io/report/state-of-compound-q4-2021 for most used coin\n",
    "most_used_coins = ['cETH', 'cUSDC', 'cBTC', 'cDAI', 'cUSDT']\n",
    "\n",
    "df_copy = df\n",
    "df_copy = df_copy[df_copy['symbol'].isin(most_used_coins)]\n",
    "\n",
    "chart1 = alt.Chart(df_copy).mark_area(\n",
    "    interpolate='linear',\n",
    "    line=True\n",
    ").encode(\n",
    "    x='date:T',\n",
    "    y=alt.Y('totalAssetsUSD:Q',stack = None, title='Total Assets USD'),\n",
    "    color='symbol:N',\n",
    "    tooltip=['date:T', 'totalAssetsUSD:Q', 'symbol:N']\n",
    ").properties(\n",
    "    title='Total Assets USD Over Time',\n",
    "    width=600,\n",
    "    height=300\n",
    ")\n",
    "\n",
    "\n",
    "chart1\n"
   ]
  },
  {
   "cell_type": "markdown",
   "id": "965797ca-f0e4-4c78-bf4a-73294caf335d",
   "metadata": {},
   "source": [
    "Total borrow and total assets for ETH"
   ]
  },
  {
   "cell_type": "code",
   "execution_count": null,
   "id": "feba7069-00e5-462b-91cf-830a054aab65",
   "metadata": {},
   "outputs": [],
   "source": [
    "\n",
    "chart1 = alt.Chart(df_eth).mark_line().encode(\n",
    "    x = 'date:T',\n",
    "    y = 'totalBorrowUSD:Q',\n",
    "    tooltip=['date:T', 'totalLiabilitiesUSD:Q'],\n",
    "    color=alt.value('blue')\n",
    ")\n",
    "\n",
    "chart2 = alt.Chart(df_eth).mark_line().encode(\n",
    "    x = 'date:T',\n",
    "    y = 'totalAssetsUSD:Q',\n",
    "    tooltip=['date:T', 'totalCollateralUSD:Q'],\n",
    "    color=alt.value('orange')\n",
    ")\n",
    "\n",
    "(chart1 + chart2).resolve_scale(y='independent') | (chart1+chart2).properties(title = 'Total borrow and assets in cETH, assets in orange')\n",
    "\n"
   ]
  },
  {
   "cell_type": "markdown",
   "id": "4be2e9af-f5b7-470b-97a0-404d2c89796f",
   "metadata": {},
   "source": [
    "Total assets and liabilities in USDC"
   ]
  },
  {
   "cell_type": "code",
   "execution_count": null,
   "id": "ba75dd2a-ee7d-461e-95d3-f6a4cbff616d",
   "metadata": {},
   "outputs": [],
   "source": [
    "chart1 = alt.Chart(df[df['symbol'] == 'cUSDC']).mark_area().encode(\n",
    "    x='date:T',\n",
    "    y=alt.Y('totalAssetsUSD:Q'),\n",
    "    color=alt.Color('variable:N', scale=alt.Scale(scheme='category10')),\n",
    "    tooltip=['date:T', 'value:Q'],\n",
    ").transform_fold(\n",
    "    ['tokensUSD', 'reservesUSD', 'interAssetsUSD'],\n",
    "    as_=['variable', 'value']\n",
    ").properties(\n",
    "    title='Total assets in USDC',\n",
    "    width=600,\n",
    "    height=400\n",
    ")\n",
    "\n",
    "chart2 = alt.Chart(df[df['symbol'] == 'cUSDC']).mark_area().encode(\n",
    "    x='date:T',\n",
    "    y=alt.Y('totalLiabilitiesUSD:Q'),\n",
    "    color=alt.Color('variable:N', scale=alt.Scale(scheme='category10')),\n",
    "    tooltip=['date:T', 'value:Q'],\n",
    ").transform_fold(\n",
    "    ['bufferUSD', 'depositsUSD', 'interLiabilitiesUSD', 'netWorthUSD'],\n",
    "    as_=['variable', 'value']\n",
    ").properties(\n",
    "    title='Total liabilities in USDC',\n",
    "    width=400,\n",
    "    height=400\n",
    ")\n",
    "chart1|chart2\n"
   ]
  },
  {
   "cell_type": "markdown",
   "id": "82fff67e-4ab5-442b-9ed2-6c99e81aa381",
   "metadata": {},
   "source": [
    "Reserves of coins over time"
   ]
  },
  {
   "cell_type": "code",
   "execution_count": null,
   "id": "7b5b0b45-af86-4f92-a52d-5299889b29cb",
   "metadata": {},
   "outputs": [],
   "source": [
    "most_used_coins = ['cETH', 'cUSDC', 'cBTC', 'cDAI', 'cUSDT']\n",
    "\n",
    "chart = alt.Chart(df_copy).mark_line().encode(\n",
    "    x='date:T',\n",
    "    y='reservesUSD:Q',\n",
    "    color='symbol:N',\n",
    "    tooltip=['date:T', 'reservesUSD:Q', 'symbol:N']\n",
    ").properties(\n",
    "    title='Reserves for All Coins Over Time',\n",
    "    width=600,\n",
    "    height=300\n",
    ")\n",
    "chart\n",
    "\n",
    "\n"
   ]
  },
  {
   "cell_type": "markdown",
   "id": "8a60285a-65ad-4056-ab21-371c30d711c6",
   "metadata": {},
   "source": [
    "Plotting ETH price and checking correlation of col USDC- bor ETH and vice-versa\n",
    "- First I have to create a dataset for ETH market (because 'underlyingPriceUSD' is not in 'Liability' but in 'daily_markets'\n",
    "- Then I filter, first I only choose ETH as collateral in 'liability' then for the same dataset I filter for only borrowing USDC"
   ]
  },
  {
   "cell_type": "code",
   "execution_count": 3,
   "id": "0c121c25-1893-42e2-b82d-91a41f2844cf",
   "metadata": {},
   "outputs": [
    {
     "name": "stdout",
     "output_type": "stream",
     "text": [
      "260007351.96617797\n",
      "685196804.8699491\n"
     ]
    }
   ],
   "source": [
    "#Creating df for ETH\n",
    "ETH_markets = markets.loc[markets['symbol'] == 'cETH']\n",
    "ETH_USD = liability[liability['symbol_col'] == 'cETH']\n",
    "ETH_USD = ETH_USD[ETH_USD['symbol_bor'] == 'cUSDC']\n",
    "\n",
    "ETH_USD['date'] = pd.to_datetime(ETH_USD['date']) #to merge with ETH_markets \n",
    "ETH_USD = pd.merge(ETH_USD, ETH_markets[['date', 'underlyingPriceUSD', 'borrowRate', 'supplyRate', 'totalBorrows', 'totalSupply', 'utilization_ratio']], on='date')\n",
    "ETH_USD['matchBorrow'] = ETH_USD['matchBorrowUSD']/ETH_USD['underlyingPriceUSD']\n",
    "chart1 = alt.Chart(ETH_USD).mark_line().encode(\n",
    "    x = 'date:T',\n",
    "    y = 'underlyingPriceUSD:Q',\n",
    "    tooltip=['date:T', 'underlyingPriceUSD:Q'],\n",
    "    color=alt.value('orange')\n",
    ").properties(\n",
    "    width=600,\n",
    "    height=300\n",
    ").interactive()\n",
    "\n",
    "chart2 = alt.Chart(ETH_USD).mark_line().encode(\n",
    "    x = 'date:T',\n",
    "    y = 'matchBorrow:Q',\n",
    "    tooltip=['date:T', 'matchBorrow:Q'],\n",
    "    color=alt.value('black')\n",
    ").properties(\n",
    "    width=600,\n",
    "    height=300\n",
    ").interactive()\n",
    "(chart1 +chart2).properties(title = \"Price of ETH (orange), and quantity of USDC borrowed with ETH(black)\").resolve_scale(y='independent')\n",
    "\n",
    "\n",
    "\"\"\"We do same but this time, use USD to borrow ETH\"\"\"\n",
    "USD_ETH = liability[liability['symbol_col'] == 'cUSDC']\n",
    "USD_ETH = USD_ETH[USD_ETH['symbol_bor'] == 'cETH']\n",
    "USD_ETH['date'] = pd.to_datetime(USD_ETH['date']) #to merge with ETH_markets \n",
    "USD_ETH= pd.merge(USD_ETH, ETH_markets[['date', 'underlyingPriceUSD', 'borrowRate', 'supplyRate', 'totalBorrows', 'totalSupply','utilization_ratio']], on='date')\n",
    "\n",
    "USD_ETH['matchBorrow'] = USD_ETH['matchBorrowUSD']/USD_ETH['underlyingPriceUSD']\n",
    "chart3 = alt.Chart(USD_ETH).mark_line().encode(\n",
    "    x='date:T',\n",
    "    y='matchBorrow:Q',\n",
    "    tooltip=['date:T', 'matchBorrow:Q'],\n",
    "    color=alt.value('black')\n",
    ").properties(\n",
    "    width=600,\n",
    "    height=300\n",
    ").interactive()\n",
    "#(chart1 +chart2).properties(title = \"Price of ETH (orange), and quantity of USDC borrowed with ETH(black)\").resolve_scale(y='independent')|(chart1 +chart3).properties(title = \"Price of ETH (orange), and quantity of ETH borrowed with USDC(black)\").resolve_scale(y='independent')\n",
    "\n",
    "USD_ETH['matchCollateral'] = USD_ETH['matchCollateralUSD']/USD_ETH['underlyingPriceUSD']\n",
    "print(np.mean(ETH_USD['matchBorrowUSD']))\n",
    "print(np.mean(ETH_USD['matchCollateralUSD']))\n"
   ]
  },
  {
   "cell_type": "code",
   "execution_count": 4,
   "id": "424349eb-d38a-4f72-a0db-8f24f5a2f304",
   "metadata": {},
   "outputs": [
    {
     "ename": "KeyError",
     "evalue": "'borrowed_amount_change'",
     "output_type": "error",
     "traceback": [
      "\u001b[0;31m---------------------------------------------------------------------------\u001b[0m",
      "\u001b[0;31mKeyError\u001b[0m                                  Traceback (most recent call last)",
      "File \u001b[0;32m/opt/mamba/lib/python3.11/site-packages/pandas/core/indexes/base.py:3802\u001b[0m, in \u001b[0;36mIndex.get_loc\u001b[0;34m(self, key)\u001b[0m\n\u001b[1;32m   3801\u001b[0m \u001b[38;5;28;01mtry\u001b[39;00m:\n\u001b[0;32m-> 3802\u001b[0m     \u001b[38;5;28;01mreturn\u001b[39;00m \u001b[38;5;28;43mself\u001b[39;49m\u001b[38;5;241;43m.\u001b[39;49m\u001b[43m_engine\u001b[49m\u001b[38;5;241;43m.\u001b[39;49m\u001b[43mget_loc\u001b[49m\u001b[43m(\u001b[49m\u001b[43mcasted_key\u001b[49m\u001b[43m)\u001b[49m\n\u001b[1;32m   3803\u001b[0m \u001b[38;5;28;01mexcept\u001b[39;00m \u001b[38;5;167;01mKeyError\u001b[39;00m \u001b[38;5;28;01mas\u001b[39;00m err:\n",
      "File \u001b[0;32mindex.pyx:153\u001b[0m, in \u001b[0;36mpandas._libs.index.IndexEngine.get_loc\u001b[0;34m()\u001b[0m\n",
      "File \u001b[0;32mindex.pyx:182\u001b[0m, in \u001b[0;36mpandas._libs.index.IndexEngine.get_loc\u001b[0;34m()\u001b[0m\n",
      "File \u001b[0;32mpandas/_libs/hashtable_class_helper.pxi:7081\u001b[0m, in \u001b[0;36mpandas._libs.hashtable.PyObjectHashTable.get_item\u001b[0;34m()\u001b[0m\n",
      "File \u001b[0;32mpandas/_libs/hashtable_class_helper.pxi:7089\u001b[0m, in \u001b[0;36mpandas._libs.hashtable.PyObjectHashTable.get_item\u001b[0;34m()\u001b[0m\n",
      "\u001b[0;31mKeyError\u001b[0m: 'borrowed_amount_change'",
      "\nThe above exception was the direct cause of the following exception:\n",
      "\u001b[0;31mKeyError\u001b[0m                                  Traceback (most recent call last)",
      "Cell \u001b[0;32mIn[4], line 2\u001b[0m\n\u001b[1;32m      1\u001b[0m plt\u001b[38;5;241m.\u001b[39mfigure(figsize\u001b[38;5;241m=\u001b[39m(\u001b[38;5;241m8\u001b[39m, \u001b[38;5;241m6\u001b[39m))\n\u001b[0;32m----> 2\u001b[0m plt\u001b[38;5;241m.\u001b[39mscatter(\u001b[43mETH_USD\u001b[49m\u001b[43m[\u001b[49m\u001b[38;5;124;43m'\u001b[39;49m\u001b[38;5;124;43mborrowed_amount_change\u001b[39;49m\u001b[38;5;124;43m'\u001b[39;49m\u001b[43m]\u001b[49m, ETH_USD[\u001b[38;5;124m'\u001b[39m\u001b[38;5;124meth_price_change\u001b[39m\u001b[38;5;124m'\u001b[39m], color\u001b[38;5;241m=\u001b[39m\u001b[38;5;124m'\u001b[39m\u001b[38;5;124mblue\u001b[39m\u001b[38;5;124m'\u001b[39m, alpha\u001b[38;5;241m=\u001b[39m\u001b[38;5;241m0.5\u001b[39m)\n\u001b[1;32m      3\u001b[0m plt\u001b[38;5;241m.\u001b[39mtitle(\u001b[38;5;124m'\u001b[39m\u001b[38;5;124mborrowed amount on eth price\u001b[39m\u001b[38;5;124m'\u001b[39m)\n\u001b[1;32m      4\u001b[0m plt\u001b[38;5;241m.\u001b[39mxlabel(\u001b[38;5;124m'\u001b[39m\u001b[38;5;124mETH price change\u001b[39m\u001b[38;5;124m'\u001b[39m)\n",
      "File \u001b[0;32m/opt/mamba/lib/python3.11/site-packages/pandas/core/frame.py:4090\u001b[0m, in \u001b[0;36mDataFrame.__getitem__\u001b[0;34m(self, key)\u001b[0m\n\u001b[1;32m   4088\u001b[0m \u001b[38;5;28;01mif\u001b[39;00m \u001b[38;5;28mself\u001b[39m\u001b[38;5;241m.\u001b[39mcolumns\u001b[38;5;241m.\u001b[39mnlevels \u001b[38;5;241m>\u001b[39m \u001b[38;5;241m1\u001b[39m:\n\u001b[1;32m   4089\u001b[0m     \u001b[38;5;28;01mreturn\u001b[39;00m \u001b[38;5;28mself\u001b[39m\u001b[38;5;241m.\u001b[39m_getitem_multilevel(key)\n\u001b[0;32m-> 4090\u001b[0m indexer \u001b[38;5;241m=\u001b[39m \u001b[38;5;28;43mself\u001b[39;49m\u001b[38;5;241;43m.\u001b[39;49m\u001b[43mcolumns\u001b[49m\u001b[38;5;241;43m.\u001b[39;49m\u001b[43mget_loc\u001b[49m\u001b[43m(\u001b[49m\u001b[43mkey\u001b[49m\u001b[43m)\u001b[49m\n\u001b[1;32m   4091\u001b[0m \u001b[38;5;28;01mif\u001b[39;00m is_integer(indexer):\n\u001b[1;32m   4092\u001b[0m     indexer \u001b[38;5;241m=\u001b[39m [indexer]\n",
      "File \u001b[0;32m/opt/mamba/lib/python3.11/site-packages/pandas/core/indexes/base.py:3809\u001b[0m, in \u001b[0;36mIndex.get_loc\u001b[0;34m(self, key)\u001b[0m\n\u001b[1;32m   3804\u001b[0m     \u001b[38;5;28;01mif\u001b[39;00m \u001b[38;5;28misinstance\u001b[39m(casted_key, \u001b[38;5;28mslice\u001b[39m) \u001b[38;5;129;01mor\u001b[39;00m (\n\u001b[1;32m   3805\u001b[0m         \u001b[38;5;28misinstance\u001b[39m(casted_key, abc\u001b[38;5;241m.\u001b[39mIterable)\n\u001b[1;32m   3806\u001b[0m         \u001b[38;5;129;01mand\u001b[39;00m \u001b[38;5;28many\u001b[39m(\u001b[38;5;28misinstance\u001b[39m(x, \u001b[38;5;28mslice\u001b[39m) \u001b[38;5;28;01mfor\u001b[39;00m x \u001b[38;5;129;01min\u001b[39;00m casted_key)\n\u001b[1;32m   3807\u001b[0m     ):\n\u001b[1;32m   3808\u001b[0m         \u001b[38;5;28;01mraise\u001b[39;00m InvalidIndexError(key)\n\u001b[0;32m-> 3809\u001b[0m     \u001b[38;5;28;01mraise\u001b[39;00m \u001b[38;5;167;01mKeyError\u001b[39;00m(key) \u001b[38;5;28;01mfrom\u001b[39;00m \u001b[38;5;21;01merr\u001b[39;00m\n\u001b[1;32m   3810\u001b[0m \u001b[38;5;28;01mexcept\u001b[39;00m \u001b[38;5;167;01mTypeError\u001b[39;00m:\n\u001b[1;32m   3811\u001b[0m     \u001b[38;5;66;03m# If we have a listlike key, _check_indexing_error will raise\u001b[39;00m\n\u001b[1;32m   3812\u001b[0m     \u001b[38;5;66;03m#  InvalidIndexError. Otherwise we fall through and re-raise\u001b[39;00m\n\u001b[1;32m   3813\u001b[0m     \u001b[38;5;66;03m#  the TypeError.\u001b[39;00m\n\u001b[1;32m   3814\u001b[0m     \u001b[38;5;28mself\u001b[39m\u001b[38;5;241m.\u001b[39m_check_indexing_error(key)\n",
      "\u001b[0;31mKeyError\u001b[0m: 'borrowed_amount_change'"
     ]
    },
    {
     "data": {
      "text/plain": [
       "<Figure size 800x600 with 0 Axes>"
      ]
     },
     "metadata": {},
     "output_type": "display_data"
    }
   ],
   "source": [
    "plt.figure(figsize=(8, 6))\n",
    "plt.scatter(ETH_USD['borrowed_amount_change'], ETH_USD['eth_price_change'], color='blue', alpha=0.5)\n",
    "plt.title('borrowed amount on eth price')\n",
    "plt.xlabel('ETH price change')\n",
    "plt.ylabel('borrowed amount change')\n",
    "plt.show()"
   ]
  },
  {
   "cell_type": "markdown",
   "id": "77fa2a54-fb6c-455a-aad5-5e2cfc08ef49",
   "metadata": {},
   "source": [
    "**Regressing collateral on price of ETH : here I use liability df to test if the price goes up, do we use more and more ETH for borrowing USDc (that would be long position)?**"
   ]
  },
  {
   "cell_type": "code",
   "execution_count": 5,
   "id": "c5d82bc4-dd59-41bc-92e2-55c7180610f5",
   "metadata": {},
   "outputs": [
    {
     "ename": "KeyError",
     "evalue": "\"['eth_price_change', 'total_supply_change', 'total_borrows_change'] not in index\"",
     "output_type": "error",
     "traceback": [
      "\u001b[0;31m---------------------------------------------------------------------------\u001b[0m",
      "\u001b[0;31mKeyError\u001b[0m                                  Traceback (most recent call last)",
      "Cell \u001b[0;32mIn[5], line 1\u001b[0m\n\u001b[0;32m----> 1\u001b[0m X \u001b[38;5;241m=\u001b[39m \u001b[43mETH_USD\u001b[49m\u001b[43m[\u001b[49m\u001b[43m[\u001b[49m\u001b[38;5;124;43m'\u001b[39;49m\u001b[38;5;124;43meth_price_change\u001b[39;49m\u001b[38;5;124;43m'\u001b[39;49m\u001b[43m,\u001b[49m\u001b[43m \u001b[49m\u001b[38;5;124;43m'\u001b[39;49m\u001b[38;5;124;43mborrowRate\u001b[39;49m\u001b[38;5;124;43m'\u001b[39;49m\u001b[43m,\u001b[49m\u001b[43m \u001b[49m\u001b[38;5;124;43m'\u001b[39;49m\u001b[38;5;124;43msupplyRate\u001b[39;49m\u001b[38;5;124;43m'\u001b[39;49m\u001b[43m,\u001b[49m\u001b[43m \u001b[49m\u001b[38;5;124;43m'\u001b[39;49m\u001b[38;5;124;43mtotal_supply_change\u001b[39;49m\u001b[38;5;124;43m'\u001b[39;49m\u001b[43m,\u001b[49m\u001b[43m \u001b[49m\u001b[38;5;124;43m'\u001b[39;49m\u001b[38;5;124;43mtotal_borrows_change\u001b[39;49m\u001b[38;5;124;43m'\u001b[39;49m\u001b[43m,\u001b[49m\u001b[43m \u001b[49m\u001b[38;5;124;43m'\u001b[39;49m\u001b[38;5;124;43mutilization_ratio\u001b[39;49m\u001b[38;5;124;43m'\u001b[39;49m\u001b[43m,\u001b[49m\u001b[43m \u001b[49m\u001b[38;5;124;43m'\u001b[39;49m\u001b[38;5;124;43mgas_fee_usd\u001b[39;49m\u001b[38;5;124;43m'\u001b[39;49m\u001b[43m \u001b[49m\u001b[43m]\u001b[49m\u001b[43m]\u001b[49m\n\u001b[1;32m      2\u001b[0m correlation_matrix \u001b[38;5;241m=\u001b[39m X\u001b[38;5;241m.\u001b[39mcorr()\n\u001b[1;32m      3\u001b[0m \u001b[38;5;28mprint\u001b[39m(correlation_matrix)\n",
      "File \u001b[0;32m/opt/mamba/lib/python3.11/site-packages/pandas/core/frame.py:4096\u001b[0m, in \u001b[0;36mDataFrame.__getitem__\u001b[0;34m(self, key)\u001b[0m\n\u001b[1;32m   4094\u001b[0m     \u001b[38;5;28;01mif\u001b[39;00m is_iterator(key):\n\u001b[1;32m   4095\u001b[0m         key \u001b[38;5;241m=\u001b[39m \u001b[38;5;28mlist\u001b[39m(key)\n\u001b[0;32m-> 4096\u001b[0m     indexer \u001b[38;5;241m=\u001b[39m \u001b[38;5;28;43mself\u001b[39;49m\u001b[38;5;241;43m.\u001b[39;49m\u001b[43mcolumns\u001b[49m\u001b[38;5;241;43m.\u001b[39;49m\u001b[43m_get_indexer_strict\u001b[49m\u001b[43m(\u001b[49m\u001b[43mkey\u001b[49m\u001b[43m,\u001b[49m\u001b[43m \u001b[49m\u001b[38;5;124;43m\"\u001b[39;49m\u001b[38;5;124;43mcolumns\u001b[39;49m\u001b[38;5;124;43m\"\u001b[39;49m\u001b[43m)\u001b[49m[\u001b[38;5;241m1\u001b[39m]\n\u001b[1;32m   4098\u001b[0m \u001b[38;5;66;03m# take() does not accept boolean indexers\u001b[39;00m\n\u001b[1;32m   4099\u001b[0m \u001b[38;5;28;01mif\u001b[39;00m \u001b[38;5;28mgetattr\u001b[39m(indexer, \u001b[38;5;124m\"\u001b[39m\u001b[38;5;124mdtype\u001b[39m\u001b[38;5;124m\"\u001b[39m, \u001b[38;5;28;01mNone\u001b[39;00m) \u001b[38;5;241m==\u001b[39m \u001b[38;5;28mbool\u001b[39m:\n",
      "File \u001b[0;32m/opt/mamba/lib/python3.11/site-packages/pandas/core/indexes/base.py:6199\u001b[0m, in \u001b[0;36mIndex._get_indexer_strict\u001b[0;34m(self, key, axis_name)\u001b[0m\n\u001b[1;32m   6196\u001b[0m \u001b[38;5;28;01melse\u001b[39;00m:\n\u001b[1;32m   6197\u001b[0m     keyarr, indexer, new_indexer \u001b[38;5;241m=\u001b[39m \u001b[38;5;28mself\u001b[39m\u001b[38;5;241m.\u001b[39m_reindex_non_unique(keyarr)\n\u001b[0;32m-> 6199\u001b[0m \u001b[38;5;28;43mself\u001b[39;49m\u001b[38;5;241;43m.\u001b[39;49m\u001b[43m_raise_if_missing\u001b[49m\u001b[43m(\u001b[49m\u001b[43mkeyarr\u001b[49m\u001b[43m,\u001b[49m\u001b[43m \u001b[49m\u001b[43mindexer\u001b[49m\u001b[43m,\u001b[49m\u001b[43m \u001b[49m\u001b[43maxis_name\u001b[49m\u001b[43m)\u001b[49m\n\u001b[1;32m   6201\u001b[0m keyarr \u001b[38;5;241m=\u001b[39m \u001b[38;5;28mself\u001b[39m\u001b[38;5;241m.\u001b[39mtake(indexer)\n\u001b[1;32m   6202\u001b[0m \u001b[38;5;28;01mif\u001b[39;00m \u001b[38;5;28misinstance\u001b[39m(key, Index):\n\u001b[1;32m   6203\u001b[0m     \u001b[38;5;66;03m# GH 42790 - Preserve name from an Index\u001b[39;00m\n",
      "File \u001b[0;32m/opt/mamba/lib/python3.11/site-packages/pandas/core/indexes/base.py:6251\u001b[0m, in \u001b[0;36mIndex._raise_if_missing\u001b[0;34m(self, key, indexer, axis_name)\u001b[0m\n\u001b[1;32m   6248\u001b[0m     \u001b[38;5;28;01mraise\u001b[39;00m \u001b[38;5;167;01mKeyError\u001b[39;00m(\u001b[38;5;124mf\u001b[39m\u001b[38;5;124m\"\u001b[39m\u001b[38;5;124mNone of [\u001b[39m\u001b[38;5;132;01m{\u001b[39;00mkey\u001b[38;5;132;01m}\u001b[39;00m\u001b[38;5;124m] are in the [\u001b[39m\u001b[38;5;132;01m{\u001b[39;00maxis_name\u001b[38;5;132;01m}\u001b[39;00m\u001b[38;5;124m]\u001b[39m\u001b[38;5;124m\"\u001b[39m)\n\u001b[1;32m   6250\u001b[0m not_found \u001b[38;5;241m=\u001b[39m \u001b[38;5;28mlist\u001b[39m(ensure_index(key)[missing_mask\u001b[38;5;241m.\u001b[39mnonzero()[\u001b[38;5;241m0\u001b[39m]]\u001b[38;5;241m.\u001b[39munique())\n\u001b[0;32m-> 6251\u001b[0m \u001b[38;5;28;01mraise\u001b[39;00m \u001b[38;5;167;01mKeyError\u001b[39;00m(\u001b[38;5;124mf\u001b[39m\u001b[38;5;124m\"\u001b[39m\u001b[38;5;132;01m{\u001b[39;00mnot_found\u001b[38;5;132;01m}\u001b[39;00m\u001b[38;5;124m not in index\u001b[39m\u001b[38;5;124m\"\u001b[39m)\n",
      "\u001b[0;31mKeyError\u001b[0m: \"['eth_price_change', 'total_supply_change', 'total_borrows_change'] not in index\""
     ]
    }
   ],
   "source": [
    "X = ETH_USD[['eth_price_change', 'borrowRate', 'supplyRate', 'total_supply_change', 'total_borrows_change', 'utilization_ratio', 'gas_fee_usd' ]]\n",
    "correlation_matrix = X.corr()\n",
    "print(correlation_matrix)\n",
    "plt.figure(figsize=(8, 6))\n",
    "sns.heatmap(correlation_matrix, annot=True, cmap='coolwarm', fmt=\".2f\", linewidths=.5)\n",
    "plt.title('Correlation Heatmap')\n",
    "plt.show()\n",
    "print(ETH_USD)"
   ]
  },
  {
   "cell_type": "code",
   "execution_count": 17,
   "id": "ff865ea5-c79a-46e0-a66b-c30b278b4ce2",
   "metadata": {},
   "outputs": [
    {
     "name": "stdout",
     "output_type": "stream",
     "text": [
      "                              OLS Regression Results                              \n",
      "==================================================================================\n",
      "Dep. Variable:     borrowed_amount_change   R-squared:                       0.493\n",
      "Model:                                OLS   Adj. R-squared:                  0.463\n",
      "Method:                     Least Squares   F-statistic:                    0.9610\n",
      "Date:                    Thu, 15 Feb 2024   Prob (F-statistic):              0.418\n",
      "Time:                            12:46:08   Log-Likelihood:                -45.377\n",
      "No. Observations:                      54   AIC:                             98.75\n",
      "Df Residuals:                          50   BIC:                             106.7\n",
      "Df Model:                               3                                         \n",
      "Covariance Type:                      HC3                                         \n",
      "=======================================================================================\n",
      "                          coef    std err          z      P>|z|      [0.025      0.975]\n",
      "---------------------------------------------------------------------------------------\n",
      "const                   1.1010      1.025      1.074      0.283      -0.908       3.110\n",
      "eth_price_change       -1.0894      1.022     -1.066      0.287      -3.093       0.914\n",
      "borrowRate            -37.6366     36.943     -1.019      0.308    -110.044      34.771\n",
      "total_supply_change     0.0608      1.041      0.058      0.953      -1.980       2.102\n",
      "==============================================================================\n",
      "Omnibus:                       91.101   Durbin-Watson:                   2.004\n",
      "Prob(Omnibus):                  0.000   Jarque-Bera (JB):             1993.906\n",
      "Skew:                           4.692   Prob(JB):                         0.00\n",
      "Kurtosis:                      31.251   Cond. No.                         866.\n",
      "==============================================================================\n",
      "\n",
      "Notes:\n",
      "[1] Standard Errors are heteroscedasticity robust (HC3)\n",
      "Selected features with HC3: ['total_supply_change', 'borrowRate']\n",
      "                              OLS Regression Results                              \n",
      "==================================================================================\n",
      "Dep. Variable:     borrowed_amount_change   R-squared:                       0.490\n",
      "Model:                                OLS   Adj. R-squared:                  0.470\n",
      "Method:                     Least Squares   F-statistic:                     1.202\n",
      "Date:                    Thu, 15 Feb 2024   Prob (F-statistic):              0.309\n",
      "Time:                            12:46:08   Log-Likelihood:                -45.572\n",
      "No. Observations:                      54   AIC:                             97.14\n",
      "Df Residuals:                          51   BIC:                             103.1\n",
      "Df Model:                               2                                         \n",
      "Covariance Type:                      HC3                                         \n",
      "=======================================================================================\n",
      "                          coef    std err          z      P>|z|      [0.025      0.975]\n",
      "---------------------------------------------------------------------------------------\n",
      "const                   1.0776      1.020      1.057      0.291      -0.921       3.076\n",
      "total_supply_change     0.0609      1.042      0.058      0.953      -1.981       2.103\n",
      "borrowRate            -36.8305     36.753     -1.002      0.316    -108.865      35.204\n",
      "==============================================================================\n",
      "Omnibus:                       90.731   Durbin-Watson:                   2.005\n",
      "Prob(Omnibus):                  0.000   Jarque-Bera (JB):             1965.876\n",
      "Skew:                           4.666   Prob(JB):                         0.00\n",
      "Kurtosis:                      31.047   Cond. No.                         858.\n",
      "==============================================================================\n",
      "\n",
      "Notes:\n",
      "[1] Standard Errors are heteroscedasticity robust (HC3)\n"
     ]
    }
   ],
   "source": [
    "from sklearn.metrics import mean_squared_error, mean_absolute_error\n",
    "ETH_USD['eth_price_change'] = ETH_USD['underlyingPriceUSD'].pct_change()\n",
    "ETH_USD['borrowed_amount_change'] = ETH_USD['matchBorrow'].pct_change()\n",
    "ETH_USD['total_supply_change'] = ETH_USD['totalSupply'].pct_change()\n",
    "ETH_USD['total_borrows_change'] = ETH_USD['totalBorrows'].pct_change()\n",
    "\n",
    "# Drop rows with NaN or infinite values\n",
    "ETH_USD = ETH_USD.replace([np.inf, -np.inf], np.nan)\n",
    "ETH_USD = ETH_USD.dropna()\n",
    "y = ETH_USD['borrowed_amount_change']\n",
    "\n",
    "X_init = ETH_USD[['eth_price_change', 'borrowRate', 'total_supply_change']]\n",
    "#scaler = StandardScaler()\n",
    "#X_init = scaler.fit_transform(X_init)\n",
    "\n",
    "init_model = sm.OLS(y, sm.add_constant(X_init)).fit(cov_type='HC3')\n",
    "\n",
    "print(init_model.summary())\n",
    "#print(np.nan in X_init or np.nan in y)\n",
    "\n",
    "\n",
    "X = ETH_USD[['eth_price_change', 'borrowRate', 'total_supply_change', 'gas_fee_usd' ]]\n",
    "\n",
    "def forward_selection(X, y):\n",
    "    selected_features = []\n",
    "    remaining_features = list(X.columns)\n",
    "    current_score = 0.0\n",
    "    \n",
    "    while remaining_features:\n",
    "        best_score = 0.0\n",
    "        best_feature = None\n",
    "        \n",
    "        for feature in remaining_features:\n",
    "            model_features = selected_features + [feature]\n",
    "            X_subset = X[model_features]\n",
    "            X_subset = sm.add_constant(X_subset)  \n",
    "            \n",
    "            model = sm.OLS(y, X_subset).fit(cov_type='HC3')  \n",
    "            r_squared = model.rsquared_adj\n",
    "            \n",
    "            if r_squared > best_score:\n",
    "                best_score = r_squared\n",
    "                best_feature = feature\n",
    "        \n",
    "        if best_score > current_score:\n",
    "            selected_features.append(best_feature)\n",
    "            remaining_features.remove(best_feature)\n",
    "            current_score = best_score\n",
    "        else:\n",
    "            break\n",
    "    \n",
    "    return selected_features\n",
    "\n",
    "\n",
    "selected_features = forward_selection(X, y)\n",
    "print(\"Selected features with HC3:\", selected_features)\n",
    "\n",
    "# Build the final model \n",
    "final_model_features = sm.add_constant(X[selected_features])\n",
    "final_model = sm.OLS(y, final_model_features).fit(cov_type='HC3')\n",
    "\n",
    "\n",
    "print(final_model.summary())\n"
   ]
  },
  {
   "cell_type": "code",
   "execution_count": null,
   "id": "e5b14676-1e29-4742-8184-37c1253fa34c",
   "metadata": {},
   "outputs": [],
   "source": [
    "# Plot residuals\n",
    "y_pred = final_model.predict(final_model_features)\n",
    "residuals = y - y_pred\n",
    "plt.figure(figsize=(8, 6))\n",
    "plt.scatter(y_pred, residuals, color='blue', alpha=0.5)\n",
    "plt.title('Residuals Plot')\n",
    "plt.xlabel('Predicted Values')\n",
    "plt.ylabel('Residuals')\n",
    "plt.axhline(y=0, color='red', linestyle='--')  # Add a horizontal line at y=0\n",
    "plt.show()\n",
    "\n",
    "plot_data2 = pd.DataFrame({'date': USD_ETH['date'], 'Actual (y)': y, 'Predicted (y_pred)': y_pred})\n",
    "\n",
    "print(mean_squared_error(y, y_pred))\n",
    "print(max(residuals))\n",
    "print(np.mean(ETH_USD['borrowed_amount_change']))\n",
    "print(mean_absolute_error(y, y_pred))\n",
    "print(mean_squared_error(ETH_USD['matchBorrow'], ETH_USD['totalBorrows']))"
   ]
  },
  {
   "cell_type": "code",
   "execution_count": null,
   "id": "595ad0be-51e5-44cd-ac59-d43ab3e40ef3",
   "metadata": {},
   "outputs": [],
   "source": [
    "plot_data = pd.DataFrame({'date': ETH_USD['date'], 'Actual (y)': y, 'Predicted (y_pred)': y_pred})\n",
    "# Altair Line Plot\n",
    "line_plot = alt.Chart(plot_data).mark_line().encode(\n",
    "    x='date:T',\n",
    "    y=alt.Y('Actual (y):Q', title='Value'),\n",
    "    color=alt.value('blue'),\n",
    "    tooltip=['date:T', 'Actual (y):Q']\n",
    ").properties(\n",
    "    width=600,\n",
    "    height=400,\n",
    "    title='Line Plot of Actual vs Predicted Values over Time'\n",
    ")\n",
    "\n",
    "# Add Predicted (y_pred) as an overlay\n",
    "overlay = alt.Chart(plot_data).mark_line(color='red').encode(\n",
    "    x='date:T',\n",
    "    y='Predicted (y_pred):Q',\n",
    "    tooltip=['date:T', 'Predicted (y_pred):Q']\n",
    ").interactive()\n",
    "\n",
    "(line_plot + overlay)\n"
   ]
  },
  {
   "cell_type": "markdown",
   "id": "ea7cf192-806b-4a55-b0b4-da247b3526b0",
   "metadata": {},
   "source": [
    "**Regressing USD-ETH borrow on price of ETH : here I use liability df to test if the price goes up, do we use more and more USDC for borrowing ETH (that would be short position)?**"
   ]
  },
  {
   "cell_type": "code",
   "execution_count": null,
   "id": "f28e3518-70c8-46a4-83b0-5fefcbe9655c",
   "metadata": {},
   "outputs": [],
   "source": [
    "USD_ETH['eth_price_change'] = USD_ETH['underlyingPriceUSD'].pct_change()\n",
    "USD_ETH['coll_change'] = USD_ETH['matchCollateral'].pct_change()\n",
    "USD_ETH['total_supply_change'] = USD_ETH['totalSupply'].pct_change()\n",
    "USD_ETH['total_borrows_change'] = USD_ETH['totalBorrows'].pct_change()\n",
    "\n",
    "\n",
    "# Drop rows with NaN or infinite values\n",
    "USD_ETH = USD_ETH.replace([np.inf, -np.inf], np.nan)\n",
    "USD_ETH = USD_ETH.dropna()\n",
    "\n",
    "#model with all covariates\n",
    "y = USD_ETH['total_supply_change']\n",
    "X_init = sm.add_constant(USD_ETH[['eth_price_change', 'borrowRate', 'supplyRate', 'utilization_ratio']])\n",
    "init_model = sm.OLS(y, X_init).fit(cov_type='HC3')\n",
    "print(init_model.summary())\n",
    "\n",
    "print(X_init.corr())\n",
    "X = USD_ETH[['eth_price_change', 'borrowRate', 'supplyRate', 'utilization_ratio']]\n",
    "\n",
    "#forward selection\n",
    "selected_features = forward_selection(X, y)\n",
    "print(\"Selected features:\", selected_features)\n",
    "\n",
    "\n",
    "final_model_features = sm.add_constant(X[selected_features])\n",
    "final_model2 = sm.OLS(y, final_model_features).fit(cov_type='HC3')\n",
    "\n",
    "\n",
    "print(final_model2.summary())\n"
   ]
  },
  {
   "cell_type": "code",
   "execution_count": null,
   "id": "ed05b0e0-2b9a-4ca8-9bb7-219aeb443606",
   "metadata": {},
   "outputs": [],
   "source": [
    "y_pred = final_model2.predict(final_model_features)\n",
    "residuals = y - y_pred\n",
    "\n",
    "# Plot residuals\n",
    "plt.figure(figsize=(8, 6))\n",
    "plt.scatter(y_pred, residuals, color='blue', alpha=0.5)\n",
    "plt.title('Residuals Plot')\n",
    "plt.xlabel('Predicted Values')\n",
    "plt.ylabel('Residuals')\n",
    "plt.axhline(y=0, color='red', linestyle='--')  # Add a horizontal line at y=0\n",
    "plt.show()\n",
    "\n",
    "plot_data2 = pd.DataFrame({'date': USD_ETH['date'], 'Actual (y)': y, 'Predicted (y_pred)': y_pred})\n",
    "\n",
    "print(max(residuals**2))"
   ]
  },
  {
   "cell_type": "code",
   "execution_count": null,
   "id": "b58622b3-0a34-4271-ab88-39099557f895",
   "metadata": {},
   "outputs": [],
   "source": [
    "\n",
    "\n",
    "# Altair Line Plot\n",
    "line_plot2 = alt.Chart(plot_data2).mark_line().encode(\n",
    "    x='date:T',\n",
    "    y=alt.Y('Actual (y):Q', title='Value'),\n",
    "    color=alt.value('blue'),\n",
    "    tooltip=['date:T', 'Actual (y):Q']\n",
    ").properties(\n",
    "    width=600,\n",
    "    height=400,\n",
    "    title='Line Plot of Actual vs Predicted Values over Time'\n",
    ")\n",
    "\n",
    "# Add Predicted (y_pred) as an overlay\n",
    "overlay2 = alt.Chart(plot_data2).mark_line(color='red').encode(\n",
    "    x='date:T',\n",
    "    y='Predicted (y_pred):Q',\n",
    "    tooltip=['date:T', 'Predicted (y_pred):Q']\n",
    ").interactive()\n",
    "\n",
    "(line_plot2 + overlay2)"
   ]
  },
  {
   "cell_type": "markdown",
   "id": "c5c28b4c-8468-4ddd-a912-2d3025d99b85",
   "metadata": {},
   "source": [
    "**Now let's check the elasticity of the ETH - USD borrowing (if the price or other factors for ETH goes up, how much does the amount borrowed/ collateral vary)**"
   ]
  },
  {
   "cell_type": "code",
   "execution_count": null,
   "id": "dba28f14-d0cd-41a8-8bdd-875eadb8dded",
   "metadata": {
    "scrolled": true
   },
   "outputs": [],
   "source": [
    "\n",
    "# Calculate elasticity\n",
    "ETH_USD['elasticity'] = ETH_USD['borrowed_amount_change'] / ETH_USD['eth_price_change']\n",
    "ETH_USD['elasticity'] = ETH_USD['elasticity'].replace([np.inf, -np.inf, np.nan], 0)\n",
    "print(np.mean(ETH_USD['elasticity']))\n",
    "\n",
    "\n",
    "chart = alt.Chart(ETH_USD).mark_line().encode(\n",
    "    x='date:T',\n",
    "    y='elasticity:Q',\n",
    "    tooltip=['date:T', 'elasticity:Q'],\n",
    "    color=alt.value('black')\n",
    ").properties(\n",
    "    title='Price elasticity of Borrowing for USD with ETH',\n",
    "    width=500,\n",
    "    height=300\n",
    ").interactive()\n",
    "chart\n",
    "\n"
   ]
  }
 ],
 "metadata": {
  "kernelspec": {
   "display_name": "Python 3 (ipykernel)",
   "language": "python",
   "name": "python3"
  },
  "language_info": {
   "codemirror_mode": {
    "name": "ipython",
    "version": 3
   },
   "file_extension": ".py",
   "mimetype": "text/x-python",
   "name": "python",
   "nbconvert_exporter": "python",
   "pygments_lexer": "ipython3",
   "version": "3.11.6"
  }
 },
 "nbformat": 4,
 "nbformat_minor": 5
}
