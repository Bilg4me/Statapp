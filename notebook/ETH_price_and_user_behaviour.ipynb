{
 "cells": [
  {
   "cell_type": "markdown",
   "id": "1563fceb-900c-47eb-a654-0c1f619b25c1",
   "metadata": {},
   "source": [
    "# **ETH Price and Users Behavior on Compound**\r\n",
    "\r\n",
    "- The main purpose of this notebok ois to first present a summary of statistics on and see if there are sEit correlations between e market pricece of ETH and borrowers behaviours\n",
    "- **Another idea to pursue is the assumption that people may take short and long positions depending on the ETH price trend (increase-bullish or deceaeaea-bshri)**  \n",
    "- consider the amount of cETH-cUSDC and cUSDC-cETH pairs.\n",
    "- Plot whether the Ethereum price trend (up or down) may influence people to take more long or short stratiessx)"
   ]
  },
  {
   "cell_type": "markdown",
   "id": "dca3adf8-6ae7-4277-b9fd-3647042897c7",
   "metadata": {},
   "source": [
    "Importing the necessary modules"
   ]
  },
  {
   "cell_type": "code",
   "execution_count": 116,
   "id": "1e1f90c6-0b0f-4cc7-8a78-83344700a54b",
   "metadata": {},
   "outputs": [
    {
     "data": {
      "text/plain": [
       "DataTransformerRegistry.enable('default')"
      ]
     },
     "execution_count": 116,
     "metadata": {},
     "output_type": "execute_result"
    }
   ],
   "source": [
    "import csv\n",
    "import pandas as pd\n",
    "import numpy as np\n",
    "import matplotlib.pyplot as plt\n",
    "import altair as alt\n",
    "from datetime import datetime\n",
    "import statsmodels.api as sm\n",
    "from statsmodels.tsa.stattools import grangercausalitytests\n",
    "from sklearn.preprocessing import StandardScaler\n",
    "alt.data_transformers.disable_max_rows()"
   ]
  },
  {
   "cell_type": "markdown",
   "id": "02ca67e5-2d9a-4b42-81f2-8d52dcb1ca0e",
   "metadata": {},
   "source": [
    "Preparing the data & creating a df for ETH"
   ]
  },
  {
   "cell_type": "code",
   "execution_count": null,
   "id": "4bfe8f88-2c7e-4d45-a83e-4b993bae4833",
   "metadata": {},
   "outputs": [],
   "source": [
    "csv_file_path = r'../data/daily_balance_sheet.csv'\n",
    "df = pd.read_csv(csv_file_path)\n",
    "liability = pd.read_csv(r'../data/daily_liability_matrix.csv')\n",
    "col_drop = ['repayUSD','bufferUSD', 'haircutUSD', 'seizeUSD']\n",
    "df.drop(col_drop, axis = 1)\n",
    "\n",
    "csv_file_path2 = r'../data/daily_markets.csv'\n",
    "markets = pd.read_csv(csv_file_path2)\n",
    "markets['date'] = pd.to_datetime(markets['date'])\n",
    "df['date'] = pd.to_datetime(df['date'])\n",
    "df_eth = df[df['symbol'] == 'cETH']\n"
   ]
  },
  {
   "cell_type": "markdown",
   "id": "e721c8b4-f525-4f69-8980-55ef4c676ade",
   "metadata": {},
   "source": [
    "Plotting total borrow, total collateral and total assets"
   ]
  },
  {
   "cell_type": "code",
   "execution_count": null,
   "id": "fe57c2e9-86cf-4b3c-bde7-86454c0b0f82",
   "metadata": {},
   "outputs": [],
   "source": [
    "chart1 = alt.Chart(df[df['symbol'] == 'cUSDC']).mark_line().encode(\n",
    "    x='date:T',\n",
    "    y='totalBorrowUSD:Q',\n",
    "    color=alt.value('blue'),\n",
    "    tooltip=['date', 'totalBorrowUSD']\n",
    ").properties(\n",
    "    width=600,\n",
    "    height=300\n",
    ")\n",
    "chart2 = alt.Chart(df[df['symbol'] == 'cUSDC']).mark_line().encode(\n",
    "    x='date:T',\n",
    "    y = 'totalCollateralUSD:Q',\n",
    "    tooltip=['date:T', 'totalCollateralUSD:Q'],\n",
    "    color=alt.value('orange')\n",
    ").properties(\n",
    "    width=600,\n",
    "    height=300\n",
    ")\n",
    "chart3 = alt.Chart(df[df['symbol'] == 'cUSDC']).mark_line().encode(\n",
    "    x='date:T',\n",
    "    y = 'totalAssetsUSD:Q',\n",
    "    tooltip=['date:T', 'totalAssetsUSD:Q'],\n",
    "    color=alt.value('red')\n",
    ").properties(\n",
    "    width=600,\n",
    "    height=300\n",
    ")\n",
    "\n",
    "(chart1 +chart2+chart3)#.resolve_scale(y='independent')\n",
    "\n"
   ]
  },
  {
   "cell_type": "markdown",
   "id": "4caf75da-65e7-4fd1-9498-81075e964173",
   "metadata": {},
   "source": [
    "Plotting total assets for most used coins "
   ]
  },
  {
   "cell_type": "code",
   "execution_count": null,
   "id": "29ca9685-b5b4-46b8-8b63-533c9ae25809",
   "metadata": {},
   "outputs": [],
   "source": [
    "#see https://messari.io/report/state-of-compound-q4-2021 for most used coin\n",
    "most_used_coins = ['cETH', 'cUSDC', 'cBTC', 'cDAI', 'cUSDT']\n",
    "\n",
    "df_copy = df\n",
    "df_copy = df_copy[df_copy['symbol'].isin(most_used_coins)]\n",
    "\n",
    "chart1 = alt.Chart(df_copy).mark_area(\n",
    "    interpolate='linear',\n",
    "    line=True\n",
    ").encode(\n",
    "    x='date:T',\n",
    "    y=alt.Y('totalAssetsUSD:Q',stack = None, title='Total Assets USD'),\n",
    "    color='symbol:N',\n",
    "    tooltip=['date:T', 'totalAssetsUSD:Q', 'symbol:N']\n",
    ").properties(\n",
    "    title='Total Assets USD Over Time',\n",
    "    width=600,\n",
    "    height=300\n",
    ")\n",
    "\n",
    "\n",
    "chart1\n"
   ]
  },
  {
   "cell_type": "markdown",
   "id": "965797ca-f0e4-4c78-bf4a-73294caf335d",
   "metadata": {},
   "source": [
    "Total borrow and total assets for ETH"
   ]
  },
  {
   "cell_type": "code",
   "execution_count": null,
   "id": "feba7069-00e5-462b-91cf-830a054aab65",
   "metadata": {},
   "outputs": [],
   "source": [
    "\n",
    "chart1 = alt.Chart(df_eth).mark_line().encode(\n",
    "    x = 'date:T',\n",
    "    y = 'totalBorrowUSD:Q',\n",
    "    tooltip=['date:T', 'totalLiabilitiesUSD:Q'],\n",
    "    color=alt.value('blue')\n",
    ")\n",
    "\n",
    "chart2 = alt.Chart(df_eth).mark_line().encode(\n",
    "    x = 'date:T',\n",
    "    y = 'totalAssetsUSD:Q',\n",
    "    tooltip=['date:T', 'totalCollateralUSD:Q'],\n",
    "    color=alt.value('orange')\n",
    ")\n",
    "\n",
    "(chart1 + chart2).resolve_scale(y='independent') | (chart1+chart2).properties(title = 'Total borrow and assets in cETH, assets in orange')\n",
    "\n"
   ]
  },
  {
   "cell_type": "markdown",
   "id": "4be2e9af-f5b7-470b-97a0-404d2c89796f",
   "metadata": {},
   "source": [
    "Total assets and liabilities in USDC"
   ]
  },
  {
   "cell_type": "code",
   "execution_count": null,
   "id": "ba75dd2a-ee7d-461e-95d3-f6a4cbff616d",
   "metadata": {},
   "outputs": [],
   "source": [
    "chart1 = alt.Chart(df[df['symbol'] == 'cUSDC']).mark_area().encode(\n",
    "    x='date:T',\n",
    "    y=alt.Y('totalAssetsUSD:Q'),\n",
    "    color=alt.Color('variable:N', scale=alt.Scale(scheme='category10')),\n",
    "    tooltip=['date:T', 'value:Q'],\n",
    ").transform_fold(\n",
    "    ['tokensUSD', 'reservesUSD', 'interAssetsUSD'],\n",
    "    as_=['variable', 'value']\n",
    ").properties(\n",
    "    title='Total assets in USDC',\n",
    "    width=600,\n",
    "    height=400\n",
    ")\n",
    "\n",
    "chart2 = alt.Chart(df[df['symbol'] == 'cUSDC']).mark_area().encode(\n",
    "    x='date:T',\n",
    "    y=alt.Y('totalLiabilitiesUSD:Q'),\n",
    "    color=alt.Color('variable:N', scale=alt.Scale(scheme='category10')),\n",
    "    tooltip=['date:T', 'value:Q'],\n",
    ").transform_fold(\n",
    "    ['bufferUSD', 'depositsUSD', 'interLiabilitiesUSD', 'netWorthUSD'],\n",
    "    as_=['variable', 'value']\n",
    ").properties(\n",
    "    title='Total liabilities in USDC',\n",
    "    width=400,\n",
    "    height=400\n",
    ")\n",
    "chart1|chart2\n"
   ]
  },
  {
   "cell_type": "markdown",
   "id": "82fff67e-4ab5-442b-9ed2-6c99e81aa381",
   "metadata": {},
   "source": [
    "Reserves of coins over time"
   ]
  },
  {
   "cell_type": "code",
   "execution_count": null,
   "id": "7b5b0b45-af86-4f92-a52d-5299889b29cb",
   "metadata": {},
   "outputs": [],
   "source": [
    "most_used_coins = ['cETH', 'cUSDC', 'cBTC', 'cDAI', 'cUSDT']\n",
    "\n",
    "chart = alt.Chart(df_copy).mark_line().encode(\n",
    "    x='date:T',\n",
    "    y='reservesUSD:Q',\n",
    "    color='symbol:N',\n",
    "    tooltip=['date:T', 'reservesUSD:Q', 'symbol:N']\n",
    ").properties(\n",
    "    title='Reserves for All Coins Over Time',\n",
    "    width=600,\n",
    "    height=300\n",
    ")\n",
    "chart\n",
    "\n",
    "\n"
   ]
  },
  {
   "cell_type": "markdown",
   "id": "8a60285a-65ad-4056-ab21-371c30d711c6",
   "metadata": {},
   "source": [
    "Plotting ETH price and checking correlation of col USDC- bor ETH and vice-versa\n",
    "- First I have to create a dataset for ETH market (because 'underlyingPriceUSD' is not in 'Liability' but in 'daily_markets'\n",
    "- Then I filter, first I only choose ETH as collateral in 'liability' then for the same dataset I filter for only borrowing USDC"
   ]
  },
  {
   "cell_type": "code",
   "execution_count": null,
   "id": "0c121c25-1893-42e2-b82d-91a41f2844cf",
   "metadata": {},
   "outputs": [],
   "source": [
    "#Creating df for ETH\n",
    "ETH_markets = markets.loc[markets['symbol'] == 'cETH']\n",
    "\n",
    "ETH_USD = liability[liability['symbol_col'] == 'cETH']\n",
    "ETH_USD = ETH_USD[ETH_USD['symbol_bor'] == 'cUSDC']\n",
    "\n",
    "ETH_USD['date'] = pd.to_datetime(ETH_USD['date']) #to merge with ETH_markets \n",
    "ETH_USD = pd.merge(ETH_USD, ETH_markets[['date', 'underlyingPriceUSD', 'borrowRate', 'supplyRate']], on='date')\n",
    "\n",
    "chart1 = alt.Chart(ETH_USD).mark_line().encode(\n",
    "    x = 'date:T',\n",
    "    y = 'underlyingPriceUSD:Q',\n",
    "    tooltip=['date:T', 'underlyingPriceUSD:Q'],\n",
    "    color=alt.value('orange')\n",
    ").properties(\n",
    "    width=600,\n",
    "    height=300\n",
    ").interactive()\n",
    "\n",
    "chart2 = alt.Chart(ETH_USD).mark_line().encode(\n",
    "    x = 'date:T',\n",
    "    y = 'matchBorrowUSD:Q',\n",
    "    tooltip=['date:T', 'matchBorrowUSD:Q'],\n",
    "    color=alt.value('black')\n",
    ").properties(\n",
    "    width=600,\n",
    "    height=300\n",
    ").interactive()\n",
    "(chart1 +chart2).properties(title = \"Price of ETH (orange), and quantity of USDC borrowed with ETH(black)\").resolve_scale(y='independent')\n",
    "\n",
    "\n",
    "\"\"\"We do same but this time, use USD to borrow ETH\"\"\"\n",
    "USD_ETH = liability[liability['symbol_col'] == 'cUSDC']\n",
    "USD_ETH = USD_ETH[USD_ETH['symbol_bor'] == 'cETH']\n",
    "USD_ETH['date'] = pd.to_datetime(USD_ETH['date']) #to merge with ETH_markets \n",
    "USD_ETH= pd.merge(USD_ETH, ETH_markets[['date', 'underlyingPriceUSD', 'borrowRate', 'supplyRate']], on='date')\n",
    "chart3 = alt.Chart(USD_ETH).mark_line().encode(\n",
    "    x='date:T',\n",
    "    y='matchBorrowUSD:Q',\n",
    "    tooltip=['date:T', 'matchBorrowUSD:Q'],\n",
    "    color=alt.value('black')\n",
    ").properties(\n",
    "    width=600,\n",
    "    height=300\n",
    ").interactive()\n",
    "(chart1 +chart2).properties(title = \"Price of ETH (orange), and quantity of USDC borrowed with ETH(black)\").resolve_scale(y='independent')|(chart1 +chart3).properties(title = \"Price of ETH (orange), and quantity of ETH borrowed with USDC(black)\").resolve_scale(y='independent')\n",
    "\n"
   ]
  },
  {
   "cell_type": "markdown",
   "id": "77fa2a54-fb6c-455a-aad5-5e2cfc08ef49",
   "metadata": {},
   "source": [
    "**Regressing collateral on price of ETH : here I use liability df to test if the price goes up, do we use more and more ETH for borrowing USDc (that would be long position)?**"
   ]
  },
  {
   "cell_type": "code",
   "execution_count": null,
   "id": "cfd457bf-c175-4b7d-baf4-132737e8fd47",
   "metadata": {},
   "outputs": [],
   "source": [
    "\n",
    "#Regressing on borrow rate, supply rate and price of ETH\n",
    "ETH_USD['const'] = 1\n",
    "y = ETH_USD['matchCollateralUSD']\n",
    "X = ETH_USD.loc[:, ['underlyingPriceUSD', 'borrowRate', 'supplyRate']]\n",
    "\n",
    "X_scaled = StandardScaler().fit_transform(X)\n",
    "\n",
    "\n",
    "model = sm.OLS(y, X_scaled).fit(cov_type='HC3')\n",
    "print(model.summary())"
   ]
  },
  {
   "cell_type": "markdown",
   "id": "d0d65546-2968-419b-83ef-a322f640c692",
   "metadata": {},
   "source": [
    "**Regressing USD-ETH borrow on price of ETH : here I use liability df to test if the price goes up, do we use more and more USDC for borrowing ETH (that would be short position)?**"
   ]
  },
  {
   "cell_type": "code",
   "execution_count": null,
   "id": "05f71433-3841-48d0-a5b7-2165ef82c5dd",
   "metadata": {},
   "outputs": [],
   "source": [
    "\n",
    "#Regressing on borrow rate, supply rate and price of ETH\n",
    "USD_ETH['const'] = 1\n",
    "y = USD_ETH['matchBorrowUSD']\n",
    "X = USD_ETH[['underlyingPriceUSD', 'borrowRate', 'supplyRate']]\n",
    "\n",
    "X_scaled = StandardScaler().fit_transform(X)\n",
    "\n",
    "\n",
    "model = sm.OLS(y, X_scaled).fit(cov_type='HC3')\n",
    "print(model.summary())"
   ]
  }
 ],
 "metadata": {
  "kernelspec": {
   "display_name": "Python 3 (ipykernel)",
   "language": "python",
   "name": "python3"
  },
  "language_info": {
   "codemirror_mode": {
    "name": "ipython",
    "version": 3
   },
   "file_extension": ".py",
   "mimetype": "text/x-python",
   "name": "python",
   "nbconvert_exporter": "python",
   "pygments_lexer": "ipython3",
   "version": "3.10.13"
  }
 },
 "nbformat": 4,
 "nbformat_minor": 5
}
