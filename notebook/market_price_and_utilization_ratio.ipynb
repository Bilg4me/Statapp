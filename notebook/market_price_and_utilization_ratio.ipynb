{
 "cells": [
  {
   "cell_type": "markdown",
   "metadata": {},
   "source": [
    "# **Crypto assets market price and users behavior on Compound**\n",
    "-  The main purpose of this notebook is to present a data exploratory visualization and see if there are some explicit correlation between market price of crypto assets & user behavior (with utilization_ratio as proxy)\n",
    "-\tUse Granger causality to test the lead/lag autocorrelation between two variables. Don't forget to check the model's assumption (e.g., stationary).\n",
    "    - https://www.youtube.com/watch?v=XqsSB_vpHLs (Granger Causality)\n",
    "    - https://www.youtube.com/watch?v=5jOW6baXYI4 (5 ways to fail with time series)\n",
    "-\tCheck if the utilization ratio is correlated with the liquidity mining activities (use cETH to borrow ETH). Maybe we should find a way to remove self-borrowing from calculating the utilization ratio. (cf. daily liability matrix)\n"
   ]
  },
  {
   "cell_type": "markdown",
   "metadata": {},
   "source": [
    "### Packages init"
   ]
  },
  {
   "cell_type": "code",
   "execution_count": 1,
   "metadata": {},
   "outputs": [
    {
     "name": "stdout",
     "output_type": "stream",
     "text": [
      "Index(['borrowRate', 'cash', 'collateralFactor', 'exchangeRate',\n",
      "       'interestRateModelAddress', 'name', 'reserves', 'supplyRate', 'symbol',\n",
      "       'cTokenAddress', 'totalBorrows', 'totalSupply', 'underlyingAddress',\n",
      "       'underlyingName', 'underlyingPrice', 'underlyingSymbol',\n",
      "       'accrualBlockNumber', 'blockTimestamp', 'borrowIndex', 'reserveFactor',\n",
      "       'underlyingPriceUSD', 'underlyingDecimals', 'date', 'newPrice'],\n",
      "      dtype='object')\n"
     ]
    },
    {
     "data": {
      "text/plain": [
       "DataTransformerRegistry.enable('csv')"
      ]
     },
     "execution_count": 1,
     "metadata": {},
     "output_type": "execute_result"
    }
   ],
   "source": [
    "import altair as alt\n",
    "import pandas as pd\n",
    "import numpy as np\n",
    "\n",
    "# Load data\n",
    "\n",
    "market_price = pd.read_csv('daily_markets.csv') # Load market price data\n",
    "full_market_price = market_price\n",
    "market_price = market_price[market_price['underlyingSymbol'].isin(['WBTC', 'ETH'])] # Filter out non-ETH/WBTC markets\n",
    "print(market_price.columns) # Print columns\n",
    "alt.data_transformers.enable('csv') # Enable csv data transformer\n"
   ]
  },
  {
   "cell_type": "markdown",
   "metadata": {},
   "source": [
    "### Plotting Data"
   ]
  },
  {
   "cell_type": "markdown",
   "metadata": {},
   "source": [
    "### Price"
   ]
  },
  {
   "cell_type": "code",
   "execution_count": null,
   "metadata": {},
   "outputs": [],
   "source": [
    "# Plot market prices double y-axis\n",
    "prices = alt.Chart(market_price).mark_line().encode(\n",
    "    x='date:T',\n",
    "    y='underlyingPriceUSD:Q',\n",
    "    color='underlyingSymbol:N',\n",
    ")\n",
    "\n",
    "prices"
   ]
  },
  {
   "cell_type": "markdown",
   "metadata": {},
   "source": [
    "## Interest Rate\n",
    "\n",
    "See https://altair-viz.github.io/gallery/select_detail.html to enhance rendering of plot"
   ]
  },
  {
   "cell_type": "code",
   "execution_count": null,
   "metadata": {},
   "outputs": [],
   "source": [
    "# Plot market borrow rates\n",
    "interest_rate = alt.Chart(market_price).mark_line().encode(\n",
    "    x='date:T',\n",
    "    y='borrowRate:Q',\n",
    "    color='underlyingSymbol:N',\n",
    ")\n"
   ]
  },
  {
   "cell_type": "markdown",
   "metadata": {},
   "source": [
    "## Utilization Ratio"
   ]
  },
  {
   "cell_type": "code",
   "execution_count": null,
   "metadata": {},
   "outputs": [],
   "source": [
    "market_price['utilization_ratio'] = market_price['totalBorrows'] / ( market_price['totalBorrows'] + market_price['cash'] - market_price['reserves'] )\n",
    "print(market_price.columns)\n",
    "\n",
    "u_ratio = alt.Chart(market_price).mark_line().encode(\n",
    "    x='date:T',\n",
    "    y='utilization_ratio:Q',\n",
    "    color='underlyingSymbol:N',\n",
    ")\n",
    "\n",
    "\n",
    "\n",
    "u_ratio | interest_rate | prices"
   ]
  },
  {
   "cell_type": "markdown",
   "metadata": {},
   "source": [
    "## Log Return"
   ]
  },
  {
   "cell_type": "code",
   "execution_count": null,
   "metadata": {},
   "outputs": [],
   "source": [
    "import datetime\n",
    "# Log return of crypto market prices grouped by underlyingSymbol\n",
    "\n",
    "market_price['yield'] = market_price.groupby('underlyingSymbol')['underlyingPriceUSD'].pct_change()\n",
    "\n",
    "\n",
    "# plot yield\n",
    "\n",
    "yield_chart = alt.Chart(market_price).mark_line().encode(\n",
    "    x='date:T',\n",
    "    y='yield:Q',\n",
    "    color='underlyingSymbol:N',\n",
    ")\n",
    "\n",
    "print(market_price.columns)\n",
    "# Display\n",
    " \n",
    "prices | yield_chart | u_ratio\n",
    "\n"
   ]
  },
  {
   "cell_type": "code",
   "execution_count": null,
   "metadata": {},
   "outputs": [],
   "source": [
    "#overlap WBTC yield and WBTC utilization ratio\n",
    "\n",
    "wbtc = market_price[market_price['underlyingSymbol'] == 'WBTC']\n",
    "\n",
    "wbtc_yield = alt.Chart(wbtc).mark_line(opacity=1, color='red').encode(\n",
    "    x='date:T',\n",
    "    y='yield:Q',\n",
    "\n",
    ")\n",
    "\n",
    "wbtc_utilization_ratio = alt.Chart(wbtc).mark_line(opacity=1, color='green').encode(\n",
    "    x='date:T',\n",
    "    y='utilization_ratio:Q',\n",
    ")\n",
    "\n",
    "wbtc_price = alt.Chart(wbtc).mark_line(interpolate=\"monotone\").encode(\n",
    "    x='date:T',\n",
    "    y='underlyingPriceUSD:Q',\n",
    ")\n",
    "\n",
    "\n",
    "wbtc_yield & wbtc_utilization_ratio"
   ]
  },
  {
   "cell_type": "code",
   "execution_count": null,
   "metadata": {},
   "outputs": [],
   "source": [
    "wbtc_price & wbtc_utilization_ratio"
   ]
  },
  {
   "cell_type": "code",
   "execution_count": null,
   "metadata": {},
   "outputs": [],
   "source": [
    "wbtc_yield.mark_bar() & wbtc_price"
   ]
  },
  {
   "cell_type": "markdown",
   "metadata": {},
   "source": [
    "## Max Yield"
   ]
  },
  {
   "cell_type": "code",
   "execution_count": null,
   "metadata": {},
   "outputs": [],
   "source": [
    "alt.Chart(wbtc).mark_rect().encode(\n",
    "    alt.X(\"date(date):O\").axis(labelAngle=0, format=\"%e\").title(\"Day\"),\n",
    "    alt.Y(\"month(date):O\").title(\"Month\"),\n",
    "    alt.Color(\"max(yield):Q\").title(\"Yield\"),\n",
    ")"
   ]
  },
  {
   "cell_type": "markdown",
   "metadata": {},
   "source": [
    "## Max Utilization Ratio"
   ]
  },
  {
   "cell_type": "code",
   "execution_count": null,
   "metadata": {},
   "outputs": [],
   "source": [
    "alt.Chart(wbtc).mark_rect().encode(\n",
    "    alt.X(\"date(date):O\").axis(labelAngle=0, format=\"%e\").title(\"Day\"),\n",
    "    alt.Y(\"month(date):O\").title(\"Month\"),\n",
    "    alt.Color(\"max(utilization_ratio):Q\").title(\"Utilization Ratio\"),\n",
    ")"
   ]
  },
  {
   "cell_type": "markdown",
   "metadata": {},
   "source": [
    "## Max Price"
   ]
  },
  {
   "cell_type": "code",
   "execution_count": null,
   "metadata": {},
   "outputs": [],
   "source": [
    "alt.Chart(wbtc).mark_rect().encode(\n",
    "    alt.X(\"date(date):O\").axis(labelAngle=0, format=\"%e\").title(\"Day\"),\n",
    "    alt.Y(\"month(date):O\").title(\"Month\"),\n",
    "    alt.Color(\"max(underlyingPriceUSD):Q\").title(\"Price\"),\n",
    ")"
   ]
  },
  {
   "cell_type": "code",
   "execution_count": null,
   "metadata": {},
   "outputs": [],
   "source": [
    "\n",
    "# reindex market price with grouping by underlyingSymbol and sympol\n",
    "\n",
    "wbtc.head()"
   ]
  },
  {
   "cell_type": "markdown",
   "metadata": {},
   "source": [
    "## **Investigating on potential correlation between coins market price and utilization_ratio**\n",
    "- Time series analysis\n",
    "    - Granger Causality\n",
    "    - Time Lagged Cross Correlation\n",
    "    - Dynamic Time Warping\n",
    "    - Instantaneous phase synchrony\n",
    "    - Fourier Transform\n",
    "    - Power Spectrum Distribution\n",
    "- Focus on Granger Causality\n",
    "    - Computing the GC = log(V(e1)/V(e2)) on a **time-window** *(parameter s)* and the **model order** *(parameter k)* of the Autoregressive Model\n",
    "        - Short **time-window** => worse model estimation but better temporal resolution\n",
    "        - Long **time-window** => better model estimation but worse temporal resolution\n",
    "        - Lower **order** => better model estimation (faster compuationt time) but less sensitive to history\n",
    "        - Higher **order** => worse model estimation (longer compuationt time) but more sensitive to history\n",
    "    - The MVGC multivariate Granger causality toolbox: a new approach to Granger-causal inference\n",
    "        -The standard method of computing G-causality involves estimation of parameters for both a full and a nested (reduced) VAR model. The MVGC approach, by contrast, avoids explicit estimation of the reduced model, thus eliminating a source of estimation error and improving statistical power, and in addition facilitates fast and accurate estimation of the computationally awkward case of conditional G-causality in the frequency domain.\n",
    "    - Trying to make GC test on differents time periods (2019-2020 / 2020-2021 / 2021-2022 / 2022-2023)"
   ]
  },
  {
   "cell_type": "code",
   "execution_count": null,
   "metadata": {},
   "outputs": [],
   "source": [
    "eth_utilization_ratio = alt.Chart(market_price[market_price['underlyingSymbol'] == 'ETH']).mark_line(opacity=1, color='green').encode( x='date:T', y='utilization_ratio:Q').properties(title=alt.Title(text='ETH Utilization Ratio'))\n",
    "wtbc_utilization_ratio = alt.Chart(market_price[market_price['underlyingSymbol'] == 'WBTC']).mark_line(opacity=1, color='green').encode( x='date:T', y='utilization_ratio:Q').properties(title=alt.Title(text='WBTC Utilization Ratio'))\n",
    "eth_price = alt.Chart(market_price[market_price['underlyingSymbol'] == 'ETH']).mark_line(interpolate=\"monotone\").encode( x='date:T', y='underlyingPriceUSD:Q').properties(title=alt.Title(text='ETH Price'))\n",
    "wbtc_price = alt.Chart(market_price[market_price['underlyingSymbol'] == 'WBTC']).mark_line(interpolate=\"monotone\").encode( x='date:T', y='underlyingPriceUSD:Q').properties(title=alt.Title(text='WBTC Price'))\n",
    "eth_yield = alt.Chart(market_price[market_price['underlyingSymbol'] == 'ETH']).mark_line(opacity=1, color='red').encode( x='date:T', y='yield:Q').properties(title=alt.Title(text='ETH Yield'))\n",
    "(eth_utilization_ratio | wbtc_utilization_ratio) & ( eth_yield | wbtc_yield)"
   ]
  },
  {
   "cell_type": "markdown",
   "metadata": {},
   "source": [
    " - Let's check granger causality between coin market price (wtbc or eth) and utilization ratio\n",
    " - https://youtu.be/4TkNZviNJC0 (Granger causality tests in python)"
   ]
  },
  {
   "cell_type": "markdown",
   "metadata": {},
   "source": [
    "## Example of stationnary time serie, adfuller test and granger causality test"
   ]
  },
  {
   "cell_type": "code",
   "execution_count": null,
   "metadata": {},
   "outputs": [],
   "source": [
    "from statsmodels.tsa.stattools import grangercausalitytests, adfuller"
   ]
  },
  {
   "cell_type": "code",
   "execution_count": null,
   "metadata": {},
   "outputs": [],
   "source": [
    "import numpy as np\n",
    "import pandas as pd\n",
    "import matplotlib.pyplot as plt"
   ]
  },
  {
   "cell_type": "code",
   "execution_count": null,
   "metadata": {},
   "outputs": [],
   "source": [
    "#build the time series, just a simple AR(1)\n",
    "t1 = [0.1*np.random.normal()]\n",
    "for _ in range(100):\n",
    "    t1.append(0.5*t1[-1] + 0.1*np.random.normal())"
   ]
  },
  {
   "cell_type": "code",
   "execution_count": null,
   "metadata": {},
   "outputs": [],
   "source": [
    "#build the time series that is granger caused by t1\n",
    "t2 = [item + 0.1*np.random.normal() for item in t1]\n",
    "# adding a little bit of noise to t1 to make it more realistic"
   ]
  },
  {
   "cell_type": "code",
   "execution_count": null,
   "metadata": {},
   "outputs": [],
   "source": [
    "#adjust t1 and t2 creating a 3 day lag in t1\n",
    "t1 = t1[3:]\n",
    "t2 = t2[:-3]"
   ]
  },
  {
   "cell_type": "code",
   "execution_count": null,
   "metadata": {},
   "outputs": [],
   "source": [
    "# testing adf for t1\n",
    "adf1 = adfuller(t1)\n",
    "adf1"
   ]
  },
  {
   "cell_type": "code",
   "execution_count": null,
   "metadata": {},
   "outputs": [],
   "source": [
    "# testing adf for t2\n",
    "adf2 = adfuller(t2)\n",
    "adf2"
   ]
  },
  {
   "cell_type": "code",
   "execution_count": null,
   "metadata": {},
   "outputs": [],
   "source": [
    "#plotting t1 and t2\n",
    "\n",
    "plt.figure(figsize=(10,4))\n",
    "plt.plot(t1, color='b')\n",
    "plt.plot(t2, color='r')\n",
    "\n",
    "plt.legend(['t1', 't2'], fontsize=16)"
   ]
  },
  {
   "cell_type": "code",
   "execution_count": null,
   "metadata": {},
   "outputs": [],
   "source": [
    "\n",
    "ts_df = pd.DataFrame(columns=['t2', 't1'], data=zip(t2,t1))\n",
    "ts_df.head()\n"
   ]
  },
  {
   "cell_type": "code",
   "execution_count": null,
   "metadata": {},
   "outputs": [],
   "source": [
    "#testing if t2 granger causes t1 up to 5 lags\n",
    "\n",
    "gc_results = grangercausalitytests(ts_df, 5)"
   ]
  },
  {
   "cell_type": "markdown",
   "metadata": {},
   "source": [
    "- Clearly we see that reaching a GC 3-lag test leads us with p-value = 0.0 implying that 3 is the good order to explain t1 from t2\n",
    "\n",
    "### Testing GC between market_price of wtbc and ETH and their respective utilization_ratio **without data cleaning** in a first time"
   ]
  },
  {
   "cell_type": "code",
   "execution_count": null,
   "metadata": {},
   "outputs": [],
   "source": [
    "\n",
    "# granger causality test for wbtc underlyingPriceUSD on utilization_ratio\n",
    "\n",
    "wbtc_ts_df = pd.DataFrame(columns=['utilization_ratio','underlyingPriceUSD'], data=zip(wbtc['utilization_ratio'],wbtc['underlyingPriceUSD']))\n",
    "wbtc_ts_df.head()"
   ]
  },
  {
   "cell_type": "code",
   "execution_count": null,
   "metadata": {},
   "outputs": [],
   "source": [
    "# adfuller test for wbtc underlyingPriceUSD\n",
    "wbtc_adf1 = adfuller(wbtc_ts_df['underlyingPriceUSD'])\n",
    "wbtc_adf1"
   ]
  },
  {
   "cell_type": "code",
   "execution_count": null,
   "metadata": {},
   "outputs": [],
   "source": [
    "#testing if underlyingPriceUSD granger causes utilization_ratio up to 5 lags\n",
    "gc_results = grangercausalitytests(wbtc_ts_df, 5, addconst=True)\n"
   ]
  },
  {
   "cell_type": "markdown",
   "metadata": {},
   "source": [
    "- Really bad result : the best p-value is 0.69 for a 1-lag assumption and increase to 1 with the order test.\n",
    "- Let's do the same with eth price and its utilization ratio"
   ]
  },
  {
   "cell_type": "code",
   "execution_count": null,
   "metadata": {},
   "outputs": [],
   "source": [
    "\n",
    "# filtering for eth only\n",
    "\n",
    "eth = market_price[market_price['underlyingSymbol'] == 'ETH']\n",
    "\n",
    "eth.head()\n"
   ]
  },
  {
   "cell_type": "code",
   "execution_count": null,
   "metadata": {},
   "outputs": [],
   "source": [
    "# granger causality test for eth underlyingPriceUSD on utilization_ratio\n",
    "\n",
    "eth_ts_df = pd.DataFrame(columns=['utilization_ratio','underlyingPriceUSD'], data=zip(eth['utilization_ratio'],eth['underlyingPriceUSD']))\n",
    "eth_ts_df.columns\n"
   ]
  },
  {
   "cell_type": "code",
   "execution_count": null,
   "metadata": {},
   "outputs": [],
   "source": [
    "# adfuller test for eth underlyingPriceUSD\n",
    "eth_adf1 = adfuller(eth_ts_df['underlyingPriceUSD'])\n",
    "eth_adf1"
   ]
  },
  {
   "cell_type": "code",
   "execution_count": null,
   "metadata": {},
   "outputs": [],
   "source": [
    "\n",
    "#testing if underlyingPriceUSD granger causes utilization_ratio up to 5 lags\n",
    "gc_results = grangercausalitytests(eth_ts_df, 5)"
   ]
  },
  {
   "cell_type": "markdown",
   "metadata": {},
   "source": [
    "- better results than WBTC GC test but still high for the p-value = 0.15 for 2 lag\n",
    "### Let's try again  **with data cleaning** this time\n",
    "- https://youtu.be/7_Js8h709Dw (Cleaning data for time-series)"
   ]
  },
  {
   "cell_type": "code",
   "execution_count": null,
   "metadata": {},
   "outputs": [],
   "source": [
    "# select row 54 of eth_ts_df\n",
    "eth_ts_df.loc[54]\n"
   ]
  },
  {
   "cell_type": "code",
   "execution_count": null,
   "metadata": {},
   "outputs": [],
   "source": [
    "# normalize with pandas the data for eth and wbtc\n",
    "\n",
    "eth_ts_df = (eth_ts_df - eth_ts_df.mean()) / eth_ts_df.std()\n",
    "wbtc_ts_df = (wbtc_ts_df - wbtc_ts_df.mean()) / wbtc_ts_df.std()\n",
    "\n",
    "\n",
    "# removing trend from the data (first property of a stationary time series)\n",
    "\n",
    "eth_ts_df = eth_ts_df.diff().dropna()\n",
    "wbtc_ts_df = wbtc_ts_df.diff().dropna()\n",
    "\n",
    "# normalizing by a periodic, lets say 1 year, volatility (second property of a stationary time series)\n",
    "\"\"\"\n",
    "for i in range(0, len(eth_ts_df),365):\n",
    "    eth_ts_df[i:i+365] /= eth_ts_df[i:i+365].std()\n",
    "\n",
    "for i in range(0, len(wbtc_ts_df),365):\n",
    "    wbtc_ts_df[i:i+365] /= wbtc_ts_df[i:i+365].std()\n",
    "\"\"\"\n",
    "#plotting eth_price and wbt_price\n",
    "\n",
    "plt.figure(figsize=(10,4))\n",
    "plt.plot(eth_ts_df['underlyingPriceUSD'], color='b')\n",
    "plt.plot(wbtc_ts_df['underlyingPriceUSD'], color='r')\n",
    "\n",
    "plt.legend(['eth_price', 'wbtc_price'], fontsize=16)\n",
    "plt.title('Cleaned ETH and WBTC Price', fontsize=20)\n",
    "\n",
    "#plotting eth_utilization_ratio and wbtc_utilization_ratio\n",
    "\n",
    "plt.figure(figsize=(10,4))\n",
    "plt.plot(eth_ts_df['utilization_ratio'], color='b')\n",
    "plt.plot(wbtc_ts_df['utilization_ratio'], color='r')\n",
    "\n",
    "plt.legend(['eth_utilization_ratio', 'wbtc_utilization_ratio'], fontsize=16)\n",
    "plt.title('Cleaned ETH and WBTC Utilization Ratio', fontsize=20)\n"
   ]
  },
  {
   "cell_type": "code",
   "execution_count": null,
   "metadata": {},
   "outputs": [],
   "source": [
    "#adfuller test for wbtc underlyingPriceUSD\n",
    "wbtc_adf1 = adfuller(wbtc_ts_df['underlyingPriceUSD'])\n",
    "wbtc_adf1\n"
   ]
  },
  {
   "cell_type": "code",
   "execution_count": null,
   "metadata": {},
   "outputs": [],
   "source": [
    "gc_results = grangercausalitytests(wbtc_ts_df, 10)"
   ]
  },
  {
   "cell_type": "code",
   "execution_count": null,
   "metadata": {},
   "outputs": [],
   "source": [
    "#adfuller test for eth underlyingPriceUSD\n",
    "eth_adf1 = adfuller(wbtc_ts_df['underlyingPriceUSD'])\n",
    "eth_adf1"
   ]
  },
  {
   "cell_type": "code",
   "execution_count": null,
   "metadata": {},
   "outputs": [],
   "source": [
    "gc_results = grangercausalitytests(eth_ts_df, 5)"
   ]
  },
  {
   "cell_type": "code",
   "execution_count": null,
   "metadata": {},
   "outputs": [],
   "source": [
    "#testing stationnarity of utilization_ratio for eth and wbtc\n",
    "\n",
    "eth_adf2 = adfuller(eth_ts_df['utilization_ratio'])\n",
    "wbtc_adf2 = adfuller(wbtc_ts_df['utilization_ratio'])\n",
    "\n",
    "print(\"ETH URATIO\",eth_adf2)\n",
    "print(\"WBTC URATIO\", wbtc_adf2)"
   ]
  },
  {
   "cell_type": "markdown",
   "metadata": {},
   "source": [
    "## Trying grangercausality with price changes (daily return) instead of market price"
   ]
  },
  {
   "cell_type": "code",
   "execution_count": null,
   "metadata": {},
   "outputs": [],
   "source": [
    "# granger causality test for eth yield on utilization_ratio\n",
    "\n",
    "eth_ts2_df = pd.DataFrame(columns=['yield','utilization_ratio'], data=zip(eth['yield'],eth['utilization_ratio'])).dropna()\n",
    "eth_ts2_df.head()\n",
    "\n",
    "# granger causality test for wbtc yield on utilization_ratio\n",
    "\n",
    "wbtc_ts2_df = pd.DataFrame(columns=['utilization_ratio','yield'], data=zip(wbtc['utilization_ratio'],wbtc['yield'])).dropna()\n",
    "wbtc_ts2_df.head()\n",
    "\n"
   ]
  },
  {
   "cell_type": "code",
   "execution_count": null,
   "metadata": {},
   "outputs": [],
   "source": [
    "# normalize with pandas the data for eth and wbtc\n",
    "\n",
    "eth_ts2_df = (eth_ts2_df - eth_ts2_df.mean()) / eth_ts2_df.std()\n",
    "wbtc_ts2_df = (wbtc_ts2_df - wbtc_ts2_df.mean()) / wbtc_ts2_df.std()\n",
    "\n",
    "\n",
    "# removing trend from the data (first property of a stationary time series)\n",
    "\n",
    "eth_ts2_df = eth_ts2_df.diff().dropna()\n",
    "wbtc_ts2_df = wbtc_ts2_df.diff().dropna()"
   ]
  },
  {
   "cell_type": "code",
   "execution_count": null,
   "metadata": {},
   "outputs": [],
   "source": [
    "\n",
    "# adfuller test for eth yield\n",
    "\n",
    "eth_adf3 = adfuller(eth_ts2_df['yield'])\n",
    "eth_adf3\n"
   ]
  },
  {
   "cell_type": "code",
   "execution_count": null,
   "metadata": {},
   "outputs": [],
   "source": [
    "\n",
    "#testing if yield granger causes utilization_ratio up to 5 lags\n",
    "gc_results = grangercausalitytests(eth_ts2_df, 5)"
   ]
  },
  {
   "cell_type": "code",
   "execution_count": null,
   "metadata": {},
   "outputs": [],
   "source": [
    "#plotting eth_utilization_ratio and eth_yield\n",
    "\n",
    "plt.figure(figsize=(10,4))\n",
    "plt.plot(eth_ts2_df['yield'], color='r')\n",
    "plt.plot(eth_ts2_df['utilization_ratio'], color='b')\n",
    "\n",
    "\n",
    "plt.legend(['eth_utilization_ratio', 'eth_yield'], fontsize=16)\n",
    "plt.title('Cleaned ETH Utilization Ratio and Yield', fontsize=20)\n"
   ]
  },
  {
   "cell_type": "code",
   "execution_count": null,
   "metadata": {},
   "outputs": [],
   "source": [
    "# adfuller test for wbtc yield\n",
    "\n",
    "wbtc_adf3 = adfuller(wbtc_ts2_df['yield'])\n",
    "wbtc_adf3\n",
    "\n"
   ]
  },
  {
   "cell_type": "code",
   "execution_count": null,
   "metadata": {},
   "outputs": [],
   "source": [
    "# granger causality test for wbtc yield on utilization_ratio on 10 lags\n",
    "gc_results = grangercausalitytests(wbtc_ts2_df, 10)\n",
    "\n",
    "#plotting p_value of granger causality test for wbtc yield in function of lags\n",
    "\n",
    "p_values = [gc_results[i+1][0]['ssr_ftest'][1] for i in range(10)]\n",
    "plt.figure(figsize=(10,4))\n",
    "plt.plot(p_values, color='b')\n",
    "plt.title('P-value of Granger Causality Test for WBTC Yield', fontsize=20)\n",
    "plt.xlabel('Lags')\n",
    "plt.ylabel('P-value')\n",
    "\n",
    "# function that return the best p-value for a granger causality test and its regarding lag\n",
    "\n",
    "def best_p_value(gc_results):\n",
    "    p_values = [gc_results[i+1][0]['ssr_ftest'][1] for i in range(10)]\n",
    "    return min(p_values), p_values.index(min(p_values)) + 1\n",
    "\n",
    "print(best_p_value(gc_results))\n"
   ]
  },
  {
   "cell_type": "code",
   "execution_count": null,
   "metadata": {},
   "outputs": [],
   "source": [
    "#plotting wbtc_utilization_ratio and wbtc_yield\n",
    "\n",
    "plt.figure(figsize=(10,4))\n",
    "plt.plot(wbtc_ts2_df['yield'], color='r')\n",
    "plt.plot(wbtc_ts2_df['utilization_ratio'], color='b')\n",
    "\n",
    "\n",
    "plt.legend(['wbtc_utilization_ratio', 'wbtc_yield'], fontsize=16)\n",
    "plt.title('Cleaned WBTC Utilization Ratio and Yield', fontsize=20)\n",
    "\n"
   ]
  },
  {
   "cell_type": "markdown",
   "metadata": {},
   "source": [
    "\n",
    "## Next Step\n",
    "<input type=\"checkbox\"> Dickey-Fuller Test to quantify the degree of stationarity </input>\n",
    "\n",
    "<input type=\"checkbox\"> Improve stationarity cleaning (seasonal normalization) </input>\n",
    "\n",
    "<input type=\"checkbox\" checked> Is u-ratio very stationnary </input>\n",
    "\n",
    "<input type=\"checkbox\"> Trying grangercausality with price changes (daily return) instead of market price </input>\n",
    "\n",
    "<input type=\"checkbox\"> cETH, cDAI and cUSDT and utilization ratio </input>\n",
    "\n",
    "<input type=\"checkbox\"> grangercausality in the other side (t2,t1) </input>\n",
    "\n",
    "<input type=\"checkbox\"> generalizing the process of gc test on others crypto-assets and see if we can classify differents families of crypto-assets (wbtc like or eth like) </input>\n"
   ]
  },
  {
   "cell_type": "code",
   "execution_count": null,
   "metadata": {},
   "outputs": [],
   "source": [
    "# Function that takes : data, a max number of lag, a symbol, two columns (t1,t2) \n",
    "# and return the best p-value and its regarding lag for a granger causality test after cleaning the data\n",
    "\n",
    "def Granger(data, max_lag, symbol, t1, t2, plotting=False):\n",
    "    \n",
    "    # filtering for symbol only\n",
    "    data = data[data['underlyingSymbol'] == symbol]\n",
    "    \n",
    "    # build the time series\n",
    "    ts_df = pd.DataFrame(columns=[t1,t2], data=zip(data[t1],data[t2])).dropna()\n",
    "    \n",
    "    #if the data is not stationary, make it stationary\n",
    "    if adfuller(ts_df[t1])[1] > 0.05:\n",
    "        ts_df[t1] = ( ts_df[t1] - ts_df[t1].mean() ) / ts_df[t1].std()\n",
    "        ts_df[t1] = ts_df[t1].diff().dropna()\n",
    "    if adfuller(ts_df[t2])[1] > 0.05:\n",
    "        ts_df[t2] = ( ts_df[t2] - ts_df[t2].mean() ) / ts_df[t2].std()\n",
    "        ts_df[t2] = ts_df[t2].diff().dropna()\n",
    "    ts_df = ts_df.dropna()\n",
    "    \n",
    "    # testing if t2 granger causes t1 up to max_lag\n",
    "    gc_results = grangercausalitytests(ts_df, max_lag,verbose=False)\n",
    "    \n",
    "    # return the best p-value and its regarding lag\n",
    "    p_values = [gc_results[i+1][0]['ssr_ftest'][1] for i in range(max_lag)]\n",
    "    \n",
    "    #plotting p_value of granger causality test for t2 on t1 in function of lags\n",
    "    if plotting:\n",
    "        plt.figure(figsize=(10,4))\n",
    "        plt.plot(p_values, color='b')\n",
    "        plt.title('P-value of Granger Causality Test for '+symbol+' '+t2+' on '+t1, fontsize=20)\n",
    "        plt.xlabel('Lags')\n",
    "        plt.ylabel('P-value')\n",
    "\n",
    "    return min(p_values), p_values.index(min(p_values)) + 1\n"
   ]
  },
  {
   "cell_type": "code",
   "execution_count": null,
   "metadata": {},
   "outputs": [],
   "source": [
    "full_market_price['yield'] = full_market_price.groupby('underlyingSymbol')['underlyingPriceUSD'].pct_change(fill_method=None)\n",
    "full_market_price['utilization_ratio'] = full_market_price['totalBorrows'] / ( full_market_price['totalBorrows'] + full_market_price['cash'] - full_market_price['reserves'] )\n",
    "symbols = full_market_price['underlyingSymbol'].unique()\n",
    "full_market_price.columns"
   ]
  },
  {
   "cell_type": "code",
   "execution_count": null,
   "metadata": {},
   "outputs": [],
   "source": [
    "for symbol in symbols:\n",
    "    if symbol in [\"USDC\",\"TUSD\",\"USDP\",\"FEI\"]:\n",
    "        continue\n",
    "    print(symbol)\n",
    "    # print(Granger(full_market_price, 50, symbol, 'utilization_ratio', 'yield', True))\n"
   ]
  },
  {
   "cell_type": "code",
   "execution_count": null,
   "metadata": {},
   "outputs": [],
   "source": [
    "# create a dataframe with the Granger function for each symbol and for each pair of columns among ['underlyingPriceUSD', 'utilization_ratio', 'yield']\n",
    "\n",
    "granger_list = []\n",
    "for symbol in symbols:\n",
    "    for t1 in ['underlyingPriceUSD', 'utilization_ratio', 'yield', 'totalSupply', 'collateralFactor']:\n",
    "        for t2 in ['underlyingPriceUSD', 'utilization_ratio', 'yield', 'totalSupply', 'collateralFactor']:\n",
    "            if t1 != t2:\n",
    "                try:\n",
    "                    p_value, lag = Granger(full_market_price, 10, symbol, t1, t2)\n",
    "                    granger_list.append({'symbol': symbol, 't1': t1, 't2': t2, 'p_value': p_value, 'lag': lag})\n",
    "                except:\n",
    "                    print(\"Error with \", symbol, t1, t2)\n",
    "\n",
    "granger_dfs = pd.DataFrame(granger_list)\n",
    "\n",
    "granger_dfs.head()"
   ]
  },
  {
   "cell_type": "code",
   "execution_count": null,
   "metadata": {},
   "outputs": [],
   "source": [
    "\n",
    "# Vizualizing the p-value of the granger causality test for each pair of columns and for each symbol with altair make darker the p-value is low\n",
    "\n",
    "alt.Chart(granger_dfs).mark_rect().encode(\n",
    "    x='t1:N',\n",
    "    y='t2:N',\n",
    "    color=alt.Color('p_value:Q', scale=alt.Scale(scheme='darkblue')),\n",
    "    column='symbol:N'\n",
    ").properties(\n",
    "    width=200,\n",
    "    height=200\n",
    ")\n"
   ]
  },
  {
   "cell_type": "code",
   "execution_count": null,
   "metadata": {},
   "outputs": [],
   "source": [
    "# ganger causality test between WBTC prices and ETH\n",
    "\n",
    "def GrangerCrossSymbol(data, max_lag, symbol1, symbol2, t1, t2, plotting=False):\n",
    "        \n",
    "    # filtering for symbol only\n",
    "    data1 = data[data['underlyingSymbol'] == symbol1]\n",
    "    data2 = data[data['underlyingSymbol'] == symbol2]\n",
    "    \n",
    "    # build the time series\n",
    "    c1 = symbol1+'_'+t1\n",
    "    c2 = symbol2+'_'+t2\n",
    "    ts_df = pd.DataFrame(columns=[c1,c2], data=zip(data1[t1],data2[t2])).dropna()\n",
    "    \n",
    "    #if the data is not stationary, make it stationary\n",
    "    if adfuller(ts_df[c1])[1] > 0.05:\n",
    "        ts_df[c1] = ( ts_df[c1] - ts_df[c1].mean() ) / ts_df[c1].std()\n",
    "        ts_df[c1] = ts_df[c1].diff().dropna()\n",
    "    if adfuller(ts_df[c2])[1] > 0.05:\n",
    "        ts_df[c2] = ( ts_df[c2] - ts_df[c2].mean() ) / ts_df[c2].std()\n",
    "        ts_df[c2] = ts_df[c2].diff().dropna()\n",
    "    ts_df = ts_df.dropna()\n",
    "    \n",
    "    # testing if t2 granger causes t1 up to max_lag\n",
    "    gc_results = grangercausalitytests(ts_df, max_lag,verbose=False)\n",
    "    \n",
    "    # return the best p-value and its regarding lag\n",
    "    p_values = [gc_results[i+1][0]['ssr_ftest'][1] for i in range(max_lag)]\n",
    "    \n",
    "    #plotting p_value of granger causality test for t2 on t1 in function of lags\n",
    "    if plotting:\n",
    "        plt.figure(figsize=(10,4))\n",
    "        plt.plot(p_values, color='b')\n",
    "        plt.title('P-value of Granger Causality Test for '+symbol2+' '+t2+' on '+symbol1+' '+t1, fontsize=20)\n",
    "        plt.xlabel('Lags')\n",
    "        plt.ylabel('P-value')\n",
    "\n",
    "    return min(p_values), p_values.index(min(p_values)) + 1\n",
    "    "
   ]
  },
  {
   "cell_type": "code",
   "execution_count": null,
   "metadata": {},
   "outputs": [],
   "source": [
    "GrangerCrossSymbol(full_market_price, 20, 'WBTC', 'ETH', 'underlyingPriceUSD', 'underlyingPriceUSD', True)"
   ]
  },
  {
   "cell_type": "code",
   "execution_count": null,
   "metadata": {},
   "outputs": [],
   "source": [
    "def Granger_p_values(data, max_lag, symbol1, symbol2, t1, t2):\n",
    "        \n",
    "    # filtering for symbol only\n",
    "    data1 = data[data['underlyingSymbol'] == symbol1]\n",
    "    data2 = data[data['underlyingSymbol'] == symbol2]\n",
    "    \n",
    "    # build the time series\n",
    "    c1 = symbol1+'_'+t1\n",
    "    c2 = symbol2+'_'+t2\n",
    "    ts_df = pd.DataFrame(columns=[c1,c2], data=zip(data1[t1],data2[t2])).dropna()\n",
    "    \n",
    "    #if the data is not stationary, make it stationary\n",
    "    if adfuller(ts_df[c1])[1] > 0.05:\n",
    "        ts_df[c1] = ( ts_df[c1] - ts_df[c1].mean() ) / ts_df[c1].std()\n",
    "        ts_df[c1] = ts_df[c1].diff().dropna()\n",
    "    if adfuller(ts_df[c2])[1] > 0.05:\n",
    "        ts_df[c2] = ( ts_df[c2] - ts_df[c2].mean() ) / ts_df[c2].std()\n",
    "        ts_df[c2] = ts_df[c2].diff().dropna()\n",
    "    ts_df = ts_df.dropna()\n",
    "    \n",
    "    # testing if t2 granger causes t1 up to max_lag\n",
    "    gc_results = grangercausalitytests(ts_df, max_lag,verbose=False)\n",
    "    \n",
    "    # return the best p-value and its regarding lag\n",
    "    p_values = [gc_results[i+1][0]['ssr_ftest'][1] for i in range(max_lag)]\n",
    "\n",
    "    return p_values"
   ]
  },
  {
   "cell_type": "code",
   "execution_count": null,
   "metadata": {},
   "outputs": [],
   "source": [
    "# Function that takes : data, a max number of lag, a list of symbol, two columns (t1,t2) \n",
    "# and return a dataframe with granger causality test p-value for all the lags from 0 to max_lag between t1 and t2 for each symbol after cleaning the data\n",
    "# then plot with alatair vega the dataframe with different color for each symbol on a same graph\n",
    "\n",
    "def GrangerSymbols(data, max_lag, symbols, t1, t2, plotting=False):\n",
    "    \n",
    "    granger_list = []\n",
    "    for token in symbols: \n",
    "        try:\n",
    "            p_values = Granger_p_values(data, max_lag, token, token, t1, t2)\n",
    "            for i in range(len(p_values)):\n",
    "                granger_list.append({'symbol': token, 'lag': i, 'p_value': p_values[i]})\n",
    "        except:\n",
    "            print(\"Error with \", token, t1, t2)\n",
    "        \n",
    "    \n",
    "    granger_dfs = pd.DataFrame(granger_list)\n",
    "\n",
    "    if plotting:\n",
    "        chart = alt.Chart(granger_dfs).mark_line().encode(\n",
    "            x='lag',\n",
    "            y='p_value:Q',\n",
    "            color='symbol:N'\n",
    "        ).properties(\n",
    "            title='Granger Causality Test: ' + t2 + ' causing ' + t1\n",
    "        )\n",
    "\n",
    "        rule = alt.Chart(pd.DataFrame({'y': [0.05]})).mark_rule(color='red', strokeDash=[5, 5]).encode(y='y')\n",
    "        chart += rule\n",
    "        \n",
    "        return chart\n",
    "    \n",
    "    return granger_dfs"
   ]
  },
  {
   "cell_type": "code",
   "execution_count": null,
   "metadata": {},
   "outputs": [],
   "source": [
    "valid_symbols = ['REP', 'ETH', 'BAT', 'ZRX', 'DAI', 'WBTC', 'USDT', 'UNI', 'COMP', 'LINK', 'SUSHI', 'YFI', 'AAVE']\n",
    "my_symbols = ['ETH', 'WBTC', 'USDT', 'COMP', 'DAI']\n",
    "GrangerSymbols(full_market_price, 50, valid_symbols , 'totalSupply', 'underlyingPriceUSD', True)"
   ]
  },
  {
   "cell_type": "markdown",
   "metadata": {},
   "source": [
    "- [x] Focus study on : SC (Stable coin) (DAI  USDC USDT) / VC (Volatile Coin) (WTBC  ETH  COMP)\n",
    "- [x] Scaling the plot of p-value in absolute axis (for the y axis)\n",
    "- [ ] Trying to classify the different patterns\n",
    "- [x] Some interpretation and hypothesis of utilization ratio correlation with other columns\n",
    "- [x] See Defi Leverage paper [link](https://www.bis.org/publ/work1171.htm)\n",
    "- [ ] Plot historical events on charts with https://bitcoin.fr/Histoire/ or http://help.cryptosheets.com/en/articles/2262493-how-to-pull-events-and-calendar-data-for-cryptocurrencies-into-excel\n"
   ]
  },
  {
   "cell_type": "code",
   "execution_count": 5,
   "metadata": {},
   "outputs": [
    {
     "name": "stdout",
     "output_type": "stream",
     "text": [
      "2019-05-07 -> 2023-12-31\n"
     ]
    }
   ],
   "source": [
    "# print range of date of market_price\n",
    "print(market_price['date'].min(), \"->\" , market_price['date'].max())"
   ]
  },
  {
   "cell_type": "code",
   "execution_count": 2,
   "metadata": {},
   "outputs": [
    {
     "data": {
      "text/html": [
       "\n",
       "<style>\n",
       "  #altair-viz-7c5154e32e934c09beea144bb2ec4712.vega-embed {\n",
       "    width: 100%;\n",
       "    display: flex;\n",
       "  }\n",
       "\n",
       "  #altair-viz-7c5154e32e934c09beea144bb2ec4712.vega-embed details,\n",
       "  #altair-viz-7c5154e32e934c09beea144bb2ec4712.vega-embed details summary {\n",
       "    position: relative;\n",
       "  }\n",
       "</style>\n",
       "<div id=\"altair-viz-7c5154e32e934c09beea144bb2ec4712\"></div>\n",
       "<script type=\"text/javascript\">\n",
       "  var VEGA_DEBUG = (typeof VEGA_DEBUG == \"undefined\") ? {} : VEGA_DEBUG;\n",
       "  (function(spec, embedOpt){\n",
       "    let outputDiv = document.currentScript.previousElementSibling;\n",
       "    if (outputDiv.id !== \"altair-viz-7c5154e32e934c09beea144bb2ec4712\") {\n",
       "      outputDiv = document.getElementById(\"altair-viz-7c5154e32e934c09beea144bb2ec4712\");\n",
       "    }\n",
       "    const paths = {\n",
       "      \"vega\": \"https://cdn.jsdelivr.net/npm/vega@5?noext\",\n",
       "      \"vega-lib\": \"https://cdn.jsdelivr.net/npm/vega-lib?noext\",\n",
       "      \"vega-lite\": \"https://cdn.jsdelivr.net/npm/vega-lite@5.16.3?noext\",\n",
       "      \"vega-embed\": \"https://cdn.jsdelivr.net/npm/vega-embed@6?noext\",\n",
       "    };\n",
       "\n",
       "    function maybeLoadScript(lib, version) {\n",
       "      var key = `${lib.replace(\"-\", \"\")}_version`;\n",
       "      return (VEGA_DEBUG[key] == version) ?\n",
       "        Promise.resolve(paths[lib]) :\n",
       "        new Promise(function(resolve, reject) {\n",
       "          var s = document.createElement('script');\n",
       "          document.getElementsByTagName(\"head\")[0].appendChild(s);\n",
       "          s.async = true;\n",
       "          s.onload = () => {\n",
       "            VEGA_DEBUG[key] = version;\n",
       "            return resolve(paths[lib]);\n",
       "          };\n",
       "          s.onerror = () => reject(`Error loading script: ${paths[lib]}`);\n",
       "          s.src = paths[lib];\n",
       "        });\n",
       "    }\n",
       "\n",
       "    function showError(err) {\n",
       "      outputDiv.innerHTML = `<div class=\"error\" style=\"color:red;\">${err}</div>`;\n",
       "      throw err;\n",
       "    }\n",
       "\n",
       "    function displayChart(vegaEmbed) {\n",
       "      vegaEmbed(outputDiv, spec, embedOpt)\n",
       "        .catch(err => showError(`Javascript Error: ${err.message}<br>This usually means there's a typo in your chart specification. See the javascript console for the full traceback.`));\n",
       "    }\n",
       "\n",
       "    if(typeof define === \"function\" && define.amd) {\n",
       "      requirejs.config({paths});\n",
       "      require([\"vega-embed\"], displayChart, err => showError(`Error loading script: ${err.message}`));\n",
       "    } else {\n",
       "      maybeLoadScript(\"vega\", \"5\")\n",
       "        .then(() => maybeLoadScript(\"vega-lite\", \"5.16.3\"))\n",
       "        .then(() => maybeLoadScript(\"vega-embed\", \"6\"))\n",
       "        .catch(showError)\n",
       "        .then(() => displayChart(vegaEmbed));\n",
       "    }\n",
       "  })({\"config\": {\"view\": {\"continuousWidth\": 300, \"continuousHeight\": 300}}, \"hconcat\": [{\"data\": {\"url\": \"altair-data-4a58eda5a8bdaf32b4dd5cef892d0c00.csv\", \"format\": {\"type\": \"csv\"}}, \"mark\": {\"type\": \"line\", \"interpolate\": \"monotone\"}, \"encoding\": {\"x\": {\"field\": \"date\", \"type\": \"temporal\"}, \"y\": {\"field\": \"underlyingPriceUSD\", \"type\": \"quantitative\"}}, \"title\": {\"text\": \"ETH Price\"}}, {\"data\": {\"url\": \"altair-data-3a6cd4488f3762d1910851f52bc755d0.csv\", \"format\": {\"type\": \"csv\"}}, \"mark\": {\"type\": \"line\", \"interpolate\": \"monotone\"}, \"encoding\": {\"x\": {\"field\": \"date\", \"type\": \"temporal\"}, \"y\": {\"field\": \"underlyingPriceUSD\", \"type\": \"quantitative\"}}, \"title\": {\"text\": \"WBTC Price\"}}], \"$schema\": \"https://vega.github.io/schema/vega-lite/v5.16.3.json\"}, {\"mode\": \"vega-lite\"});\n",
       "</script>"
      ],
      "text/plain": [
       "alt.HConcatChart(...)"
      ]
     },
     "execution_count": 2,
     "metadata": {},
     "output_type": "execute_result"
    }
   ],
   "source": [
    "# chart of wbtc and eth price\n",
    "\n",
    "eth_price = alt.Chart(market_price[market_price['underlyingSymbol'] == 'ETH']).mark_line(interpolate=\"monotone\").encode( x='date:T', y='underlyingPriceUSD:Q').properties(title=alt.Title(text='ETH Price'))\n",
    "wbtc_price = alt.Chart(market_price[market_price['underlyingSymbol'] == 'WBTC']).mark_line(interpolate=\"monotone\").encode( x='date:T', y='underlyingPriceUSD:Q').properties(title=alt.Title(text='WBTC Price'))\n",
    "\n",
    "eth_price | wbtc_price"
   ]
  },
  {
   "cell_type": "code",
   "execution_count": 6,
   "metadata": {},
   "outputs": [],
   "source": [
    "import requests\n",
    "token = \"your_token\"\n",
    "\n",
    "# make a request to coindar API v2 that Returns a cryptocurrencies list\n",
    "coins_response = requests.get(\"https://coindar.org/api/v2/coins?access_token={token}\")\n",
    "\n",
    "# get the data from the response\n",
    "coins_dump = coins_response.json()\n",
    "coins_id = { data[\"symbol\"]:data[\"id\"] for data in coins_dump }\n"
   ]
  },
  {
   "cell_type": "code",
   "execution_count": null,
   "metadata": {},
   "outputs": [],
   "source": [
    "\n",
    "# make a request to coindar API v2 that Returns a list of events tags\n",
    "tags_response = requests.get(\"https://coindar.org/api/v2/tags?access_token={token}\")\n",
    "\n",
    "# get the data from the response\n",
    "tags_dump = tags_response.json()\n",
    "tags_id = { data[\"name\"]:data[\"id\"] for data in tags_dump }\n"
   ]
  },
  {
   "cell_type": "code",
   "execution_count": null,
   "metadata": {},
   "outputs": [],
   "source": [
    "\n",
    "# make a request to coindar API v2 that Returns cryptocurrency events\n",
    "\n",
    "\"\"\"\n",
    "Parameters :\n",
    "\n",
    "access_token (required) — access token.\n",
    "\n",
    "page — page number.\n",
    "By default: 1\n",
    "\n",
    "page_size — page size.\n",
    "By default: 30\n",
    "Possible values: from 1 to 100\n",
    "\n",
    "filter_date_start — the lower limit of the event start date in the format yyyy-mm-dd.\n",
    "By default: date of the first event on Coindar.\n",
    "\n",
    "filter_date_end — the upper date limit of the event start date in the format yyyy-mm-dd.\n",
    "By default: date of the last event on Coindar by the time of request.\n",
    "\n",
    "filter_coins — cryptocurrencies IDs, relating to the requested events.\n",
    "By default: all cryptocurrencies\n",
    "Example: 1,2,3,4,10\n",
    "\n",
    "filter_tags — tags IDs (list of tags IDs can be received by the tags method).\n",
    "By default: all tags\n",
    "Example: 1,2,3\n",
    "\n",
    "sort_by — parameter, defining events sorting.\n",
    "By default: date_start\n",
    "Possible values: date_start (start date), date_added (publication date), views (amount of views). Remember, that views accounting started in June 2018.\n",
    "\n",
    "order_by — sorting order\n",
    "By default: 0\n",
    "Possible values: 0 (in the increasing order) or 1 (in the decreasing order)\n",
    "\n",
    "Example : \n",
    "https://coindar.org/api/v2/events?access_token={token}&page=1&page_size=30&filter_date_start=2018-06-01&filter_date_end=2018-07-01&filter_coins=1,4,20,34&filter_tags=1,2,3&sort_by=views&order_by=1\n",
    "\n",
    "Response example :\n",
    "[\n",
    "{\n",
    "\"caption\": \"Listing on OTCBTC\",\n",
    "\"source\": \"https://coindar.org/en/event/oraclechain-oct-listing-on-otcbtc-11299\",\n",
    "\"source_reliable\": \"true\",\n",
    "\"important\": \"false\",\n",
    "\"date_public\": \"2018-7-09 17:23\",\n",
    "\"date_start\": \"2018-7-11 06:00\",\n",
    "\"date_end\": \"\",\n",
    "\"coin_id\": \"280\",\n",
    "\"coin_price_changes\": \"-12.89\",\n",
    "\"tags\": \"9\"\n",
    "}, \n",
    "... ]\n",
    "\n",
    "\"\"\"\n",
    "\n",
    "page = 1\n",
    "page_size = 30\n",
    "filter_date_start = \"2018-06-01\"\n",
    "filter_date_end = \"2018-07-01\"\n",
    "filter_coins = \"1,4,20,34\"\n",
    "filter_tags = \"1,2,3\"\n",
    "sort_by = \"views\"\n",
    "order_by = \"1\"\n",
    "\n",
    "event_response = requests.get(f\"https://coindar.org/api/v2/events?access_token={token}&page={page}&page_size={page_size}&filter_date_start={filter_date_start}&filter_date_end={filter_date_end}&filter_coins={filter_coins}&filter_tags={filter_tags}&sort_by={sort_by}&order_by={order_by}\")\n",
    "\n",
    "# get the data from the response\n",
    "event_dump = event_response.json()\n"
   ]
  }
 ],
 "metadata": {
  "kernelspec": {
   "display_name": "Python 3 (ipykernel)",
   "language": "python",
   "name": "python3"
  },
  "language_info": {
   "codemirror_mode": {
    "name": "ipython",
    "version": 3
   },
   "file_extension": ".py",
   "mimetype": "text/x-python",
   "name": "python",
   "nbconvert_exporter": "python",
   "pygments_lexer": "ipython3",
   "version": "3.12.2"
  }
 },
 "nbformat": 4,
 "nbformat_minor": 2
}
